{
 "cells": [
  {
   "cell_type": "code",
   "execution_count": 25,
   "metadata": {
    "collapsed": false
   },
   "outputs": [],
   "source": [
    "import numpy as np\n",
    "import pandas as pd\n",
    "\n",
    "team_stats = {}\n",
    "for year in range(2011, 2017):\n",
    "    off = pd.read_csv('csv/team_stats/off/'+str(year)+'.csv').sort_values(by=['Team'])\n",
    "    off.columns = ['Off'+col if col!='Team' else col for col in off.columns]\n",
    "    defense = pd.read_csv('csv/team_stats/def/'+str(year)+'.csv').sort_values(['Team'])\n",
    "    defense.columns = ['Def'+col for col in defense.columns]\n",
    "    off_col = [off.columns.values[1]]+list(off.columns.values[4:])\n",
    "    def_col = list(defense.columns.values)[4:]\n",
    "    team_stats[year] = pd.concat([off[off_col], defense[def_col]], axis=1)\n",
    "team_stat_names = list(team_stats[2011].columns.values)[1:]\n",
    "opp_stat_names = ['Opp'+name for name in team_stat_names]\n",
    "column_names = team_stat_names + opp_stat_names\n",
    "column_names.append('YrsSince2011')\n",
    "column_names.append('Home')"
   ]
  },
  {
   "cell_type": "code",
   "execution_count": 26,
   "metadata": {
    "collapsed": false
   },
   "outputs": [],
   "source": [
    "def make_x(train_or_test):\n",
    "    data = pd.read_csv('games_'+train_or_test+'.csv', delimiter=',', header=None)\n",
    "    features = pd.DataFrame(index=range(data.shape[0]*2), columns = column_names)\n",
    "    for data_ind, game in data.iterrows():\n",
    "        year = game[4]\n",
    "        away_team = game[0]\n",
    "        home_team = game[2]\n",
    "        for team_ind,team in team_stats[year-1].iterrows():\n",
    "            if team['Team']==away_team:\n",
    "                away_team_stats=team[team_stat_names]\n",
    "            if team['Team']==home_team:\n",
    "                home_team_stats=team[team_stat_names]\n",
    "        away_row = np.concatenate((away_team_stats.append(home_team_stats).as_matrix(),[year-2011],[0]))\n",
    "        home_row = np.concatenate((home_team_stats.append(away_team_stats).as_matrix(),[year-2011],[1]))\n",
    "        features.loc[2*data_ind] = away_row\n",
    "        features.loc[2*data_ind+1] = home_row\n",
    "    features.to_csv('csv/x_'+train_or_test+'.csv',index=None)\n",
    "make_x('train')\n",
    "make_x('test')"
   ]
  }
 ],
 "metadata": {
  "kernelspec": {
   "display_name": "Python 3",
   "language": "python",
   "name": "python3"
  },
  "language_info": {
   "codemirror_mode": {
    "name": "ipython",
    "version": 3
   },
   "file_extension": ".py",
   "mimetype": "text/x-python",
   "name": "python",
   "nbconvert_exporter": "python",
   "pygments_lexer": "ipython3",
   "version": "3.5.2"
  }
 },
 "nbformat": 4,
 "nbformat_minor": 0
}
