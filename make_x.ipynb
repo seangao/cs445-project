{
 "cells": [
  {
   "cell_type": "code",
   "execution_count": 5,
   "metadata": {
    "collapsed": false
   },
   "outputs": [],
   "source": [
    "import numpy as np\n",
    "import pandas as pd\n",
    "\n",
    "team_stats = {}\n",
    "for year in range(2011, 2017):\n",
    "    off = pd.read_csv('csv/team_stats/off/'+str(year)+'.csv').sort_values(by=['Team'])\n",
    "    off.columns = ['Off'+col if col!='Team' else col for col in off.columns]\n",
    "    defense = pd.read_csv('csv/team_stats/def/'+str(year)+'.csv').sort_values(['Team'])\n",
    "    defense.columns = ['Def'+col for col in defense.columns]\n",
    "    off_col = [off.columns.values[1]]+list(off.columns.values[4:])\n",
    "    def_col = list(defense.columns.values)[4:]\n",
    "    team_stats[year] = pd.concat([off[off_col], defense[def_col]], axis=1)\n",
    "team_stat_names = list(team_stats[2011].columns.values)[1:]\n",
    "opp_stat_names = ['Opp'+name for name in team_stat_names]\n",
    "column_names = team_stat_names + opp_stat_names\n",
    "column_names.append('YrsSince2011')"
   ]
  },
  {
   "cell_type": "code",
   "execution_count": 6,
   "metadata": {
    "collapsed": true
   },
   "outputs": [],
   "source": [
    "train = pd.read_csv('games_train.csv', delimiter=',', header=None)\n",
    "train_stats = pd.DataFrame(index=range(train.shape[0]*2), columns = column_names)\n",
    "for train_ind, game in train.iterrows():\n",
    "    year = game[4]\n",
    "    left_team = game[0]\n",
    "    right_team = game[2]\n",
    "    for team_ind,team in team_stats[year].iterrows():\n",
    "        if team['Team']==left_team:\n",
    "            left_team_stats=team[team_stat_names]\n",
    "        if team['Team']==right_team:\n",
    "            right_team_stats=team[team_stat_names]\n",
    "    left_row = np.concatenate((left_team_stats.append(right_team_stats).as_matrix(),[year-2011]))\n",
    "    right_row = np.concatenate((right_team_stats.append(left_team_stats).as_matrix(),[year-2011]))\n",
    "    train_stats.loc[2*train_ind] = left_row\n",
    "    train_stats.loc[2*train_ind+1] = right_row\n",
    "train_stats.to_csv('csv/x_train.csv')"
   ]
  },
  {
   "cell_type": "code",
   "execution_count": 7,
   "metadata": {
    "collapsed": true
   },
   "outputs": [],
   "source": [
    "test = pd.read_csv('games_test.csv', delimiter=',', header=None)\n",
    "test_stats = pd.DataFrame(index=range(test.shape[0]*2), columns = column_names)\n",
    "for test_ind, game in test.iterrows():\n",
    "    year = game[4]\n",
    "    left_team = game[0]\n",
    "    right_team = game[2]\n",
    "    for team_ind,team in team_stats[year].iterrows():\n",
    "        if team['Team']==left_team:\n",
    "            left_team_stats=team[team_stat_names]\n",
    "        if team['Team']==right_team:\n",
    "            right_team_stats=team[team_stat_names]\n",
    "    left_row = np.concatenate((left_team_stats.append(right_team_stats).as_matrix(),[year-2011]))\n",
    "    right_row = np.concatenate((right_team_stats.append(left_team_stats).as_matrix(),[year-2011]))\n",
    "    test_stats.loc[2*test_ind] = left_row\n",
    "    test_stats.loc[2*test_ind+1] = right_row\n",
    "test_stats.to_csv('csv/x_test.csv')"
   ]
  }
 ],
 "metadata": {
  "kernelspec": {
   "display_name": "Python 3",
   "language": "python",
   "name": "python3"
  },
  "language_info": {
   "codemirror_mode": {
    "name": "ipython",
    "version": 3
   },
   "file_extension": ".py",
   "mimetype": "text/x-python",
   "name": "python",
   "nbconvert_exporter": "python",
   "pygments_lexer": "ipython3",
   "version": "3.5.2"
  }
 },
 "nbformat": 4,
 "nbformat_minor": 0
}
