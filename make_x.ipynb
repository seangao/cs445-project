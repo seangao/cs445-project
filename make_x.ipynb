{
 "cells": [
  {
   "cell_type": "code",
   "execution_count": 35,
   "metadata": {
    "collapsed": false
   },
   "outputs": [],
   "source": [
    "import numpy as np\n",
    "import pandas as pd\n"
   ]
  },
  {
   "cell_type": "code",
   "execution_count": 45,
   "metadata": {
    "collapsed": false
   },
   "outputs": [],
   "source": [
    "all_games = pd.read_csv('csv/games.csv', header=None)\n",
    "\n",
    "# for i in [0, 2]:\n",
    "#     all_games[i][all_games[i] == 'New Jersey Nets'] = 'Brooklyn Nets'\n",
    "#     all_games[i][all_games[i] == 'Charlotte Bobcats'] = 'Charlotte Hornets'\n",
    "#     all_games[i][all_games[i] == 'New Orleans Hornets'] = 'New Orleans Pelicans'\n",
    "#all_games.to_csv('csv/games.csv', index=None, header=False)\n",
    "\n",
    "total_wins = {}\n",
    "for year in xrange(2011, 2015):\n",
    "    wins = {}\n",
    "    games = all_games[all_games[4] == year]\n",
    "    for index, game in games.iterrows():\n",
    "        if game[3] > game[1]:\n",
    "            if game[2] not in wins:\n",
    "                wins[game[2]] = 1\n",
    "            else:\n",
    "                wins[game[2]] += 1\n",
    "        else:\n",
    "            if game[0] not in wins:\n",
    "                wins[game[0]] = 1\n",
    "            else:\n",
    "                wins[game[0]] += 1\n",
    "    total_wins[year] = wins"
   ]
  },
  {
   "cell_type": "code",
   "execution_count": 39,
   "metadata": {
    "collapsed": false
   },
   "outputs": [],
   "source": [
    "team_stats = {}\n",
    "for year in range(2011, 2017):\n",
    "    off = pd.read_csv('csv/team_stats/off/'+str(year)+'.csv').sort_values(by=['Team'])\n",
    "    off.columns = ['Off'+col if col!='Team' else col for col in off.columns]\n",
    "    defense = pd.read_csv('csv/team_stats/def/'+str(year)+'.csv').sort_values(['Team'])\n",
    "    defense.columns = ['Def'+col for col in defense.columns]\n",
    "    off_col = [off.columns.values[1]]+list(off.columns.values[4:])\n",
    "    def_col = list(defense.columns.values)[4:]\n",
    "    team_stats[year] = pd.concat([off[off_col], defense[def_col]], axis=1)\n",
    "team_stat_names = list(team_stats[2011].columns.values)[1:]\n",
    "opp_stat_names = ['Opp'+name for name in team_stat_names]\n",
    "column_names = team_stat_names + opp_stat_names\n",
    "column_names.append('YrsSince2011')\n",
    "column_names.append('Home')\n",
    "column_names.append('OffWins')\n",
    "column_names.append('DefWins')"
   ]
  },
  {
   "cell_type": "code",
   "execution_count": 40,
   "metadata": {
    "collapsed": false
   },
   "outputs": [
    {
     "ename": "KeyError",
     "evalue": "'Charlotte Bobcats'",
     "output_type": "error",
     "traceback": [
      "\u001b[0;31m---------------------------------------------------------------------------\u001b[0m",
      "\u001b[0;31mKeyError\u001b[0m                                  Traceback (most recent call last)",
      "\u001b[0;32m<ipython-input-40-d35450b33a08>\u001b[0m in \u001b[0;36m<module>\u001b[0;34m()\u001b[0m\n\u001b[1;32m     18\u001b[0m         \u001b[0mfeatures\u001b[0m\u001b[0;34m.\u001b[0m\u001b[0mloc\u001b[0m\u001b[0;34m[\u001b[0m\u001b[0;36m2\u001b[0m\u001b[0;34m*\u001b[0m\u001b[0mdata_ind\u001b[0m\u001b[0;34m+\u001b[0m\u001b[0;36m1\u001b[0m\u001b[0;34m]\u001b[0m \u001b[0;34m=\u001b[0m \u001b[0mhome_row\u001b[0m\u001b[0;34m\u001b[0m\u001b[0m\n\u001b[1;32m     19\u001b[0m     \u001b[0mfeatures\u001b[0m\u001b[0;34m.\u001b[0m\u001b[0mto_csv\u001b[0m\u001b[0;34m(\u001b[0m\u001b[0;34m'csv/x_'\u001b[0m\u001b[0;34m+\u001b[0m\u001b[0mtrain_or_test\u001b[0m\u001b[0;34m+\u001b[0m\u001b[0;34m'.csv'\u001b[0m\u001b[0;34m,\u001b[0m\u001b[0mindex\u001b[0m\u001b[0;34m=\u001b[0m\u001b[0mNone\u001b[0m\u001b[0;34m)\u001b[0m\u001b[0;34m\u001b[0m\u001b[0m\n\u001b[0;32m---> 20\u001b[0;31m \u001b[0mmake_x\u001b[0m\u001b[0;34m(\u001b[0m\u001b[0;34m'train'\u001b[0m\u001b[0;34m)\u001b[0m\u001b[0;34m\u001b[0m\u001b[0m\n\u001b[0m\u001b[1;32m     21\u001b[0m \u001b[0mmake_x\u001b[0m\u001b[0;34m(\u001b[0m\u001b[0;34m'test'\u001b[0m\u001b[0;34m)\u001b[0m\u001b[0;34m\u001b[0m\u001b[0m\n",
      "\u001b[0;32m<ipython-input-40-d35450b33a08>\u001b[0m in \u001b[0;36mmake_x\u001b[0;34m(train_or_test)\u001b[0m\n\u001b[1;32m      7\u001b[0m         \u001b[0mhome_team\u001b[0m \u001b[0;34m=\u001b[0m \u001b[0mgame\u001b[0m\u001b[0;34m[\u001b[0m\u001b[0;36m2\u001b[0m\u001b[0;34m]\u001b[0m\u001b[0;34m\u001b[0m\u001b[0m\n\u001b[1;32m      8\u001b[0m         \u001b[0maway_wins\u001b[0m \u001b[0;34m=\u001b[0m \u001b[0mtotal_wins\u001b[0m\u001b[0;34m[\u001b[0m\u001b[0myear\u001b[0m \u001b[0;34m-\u001b[0m \u001b[0;36m1\u001b[0m\u001b[0;34m]\u001b[0m\u001b[0;34m[\u001b[0m\u001b[0maway_team\u001b[0m\u001b[0;34m]\u001b[0m\u001b[0;34m\u001b[0m\u001b[0m\n\u001b[0;32m----> 9\u001b[0;31m         \u001b[0mhome_wins\u001b[0m \u001b[0;34m=\u001b[0m \u001b[0mtotal_wins\u001b[0m\u001b[0;34m[\u001b[0m\u001b[0myear\u001b[0m \u001b[0;34m-\u001b[0m \u001b[0;36m1\u001b[0m\u001b[0;34m]\u001b[0m\u001b[0;34m[\u001b[0m\u001b[0mhome_team\u001b[0m\u001b[0;34m]\u001b[0m\u001b[0;34m\u001b[0m\u001b[0m\n\u001b[0m\u001b[1;32m     10\u001b[0m         \u001b[0;32mfor\u001b[0m \u001b[0mteam_ind\u001b[0m\u001b[0;34m,\u001b[0m\u001b[0mteam\u001b[0m \u001b[0;32min\u001b[0m \u001b[0mteam_stats\u001b[0m\u001b[0;34m[\u001b[0m\u001b[0myear\u001b[0m\u001b[0;34m-\u001b[0m\u001b[0;36m1\u001b[0m\u001b[0;34m]\u001b[0m\u001b[0;34m.\u001b[0m\u001b[0miterrows\u001b[0m\u001b[0;34m(\u001b[0m\u001b[0;34m)\u001b[0m\u001b[0;34m:\u001b[0m\u001b[0;34m\u001b[0m\u001b[0m\n\u001b[1;32m     11\u001b[0m             \u001b[0;32mif\u001b[0m \u001b[0mteam\u001b[0m\u001b[0;34m[\u001b[0m\u001b[0;34m'Team'\u001b[0m\u001b[0;34m]\u001b[0m\u001b[0;34m==\u001b[0m\u001b[0maway_team\u001b[0m\u001b[0;34m:\u001b[0m\u001b[0;34m\u001b[0m\u001b[0m\n",
      "\u001b[0;31mKeyError\u001b[0m: 'Charlotte Bobcats'"
     ]
    }
   ],
   "source": [
    "def make_x(train_or_test):\n",
    "    data = pd.read_csv('games_'+train_or_test+'.csv', delimiter=',', header=None)\n",
    "    features = pd.DataFrame(index=range(data.shape[0]*2), columns = column_names)\n",
    "    for data_ind, game in data.iterrows():\n",
    "        year = game[4]\n",
    "        away_team = game[0]\n",
    "        home_team = game[2]\n",
    "        away_wins = total_wins[year - 1][away_team]\n",
    "        home_wins = total_wins[year - 1][home_team]\n",
    "        for team_ind,team in team_stats[year-1].iterrows():\n",
    "            if team['Team']==away_team:\n",
    "                away_team_stats=team[team_stat_names]\n",
    "            if team['Team']==home_team:\n",
    "                home_team_stats=team[team_stat_names]\n",
    "        away_row = np.concatenate((away_team_stats.append(home_team_stats).as_matrix(),[year-2011],[0],[away_wins],[home_wins]))\n",
    "        home_row = np.concatenate((home_team_stats.append(away_team_stats).as_matrix(),[year-2011],[1],[home_wins],[away_wins]))\n",
    "        features.loc[2*data_ind] = away_row\n",
    "        features.loc[2*data_ind+1] = home_row\n",
    "    features.to_csv('csv/x_'+train_or_test+'.csv',index=None)\n",
    "make_x('train')\n",
    "make_x('test')"
   ]
  },
  {
   "cell_type": "code",
   "execution_count": null,
   "metadata": {
    "collapsed": true
   },
   "outputs": [],
   "source": []
  }
 ],
 "metadata": {
  "kernelspec": {
   "display_name": "Python [Root]",
   "language": "python",
   "name": "Python [Root]"
  },
  "language_info": {
   "codemirror_mode": {
    "name": "ipython",
    "version": 2
   },
   "file_extension": ".py",
   "mimetype": "text/x-python",
   "name": "python",
   "nbconvert_exporter": "python",
   "pygments_lexer": "ipython2",
   "version": "2.7.12"
  }
 },
 "nbformat": 4,
 "nbformat_minor": 0
}
