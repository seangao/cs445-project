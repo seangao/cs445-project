{
 "cells": [
  {
   "cell_type": "code",
   "execution_count": 1,
   "metadata": {
    "collapsed": true
   },
   "outputs": [],
   "source": [
    "import numpy as np\n",
    "import pandas as pd"
   ]
  },
  {
   "cell_type": "code",
   "execution_count": 113,
   "metadata": {
    "collapsed": true
   },
   "outputs": [],
   "source": [
    "def train_elos(data, K=32):\n",
    "    elos = {}\n",
    "    for team in set(games_train[0]).union(set(games_train[2])):\n",
    "        elos[team] = 1200.0\n",
    "    \n",
    "    for i in xrange(len(data)):\n",
    "        game = data.iloc[i,]\n",
    "        team1 = game[0]\n",
    "        rating1 = elos[team1]\n",
    "        team2 = game[2]\n",
    "        rating2 = elos[team2]\n",
    "        t_rating1 = 10**(rating1/400.0)\n",
    "        t_rating2 = 10**(rating2/400.0)\n",
    "        e_score1 = t_rating1/(t_rating1+t_rating2)\n",
    "        e_score2 = t_rating2/(t_rating1+t_rating2)\n",
    "        if game[1] > game[3]:\n",
    "            s1 = 1\n",
    "            s2 = 0\n",
    "        else:\n",
    "            s1 = 0\n",
    "            s2 = 1\n",
    "        u_rating1 = rating1 + K*(s1-e_score1)\n",
    "        u_rating2 = rating2 + K*(s2-e_score2)\n",
    "        elos[team1] = u_rating1\n",
    "        elos[team2] = u_rating2\n",
    "    \n",
    "    return elos\n",
    "\n",
    "def dump_elos(elos):\n",
    "    import operator\n",
    "    sorted_elos = sorted(elos.items(), key=operator.itemgetter(1))\n",
    "    print sorted_elos[::-1]"
   ]
  },
  {
   "cell_type": "code",
   "execution_count": 142,
   "metadata": {
    "collapsed": true
   },
   "outputs": [],
   "source": [
    "def test_elos(model, data):\n",
    "    data[\"TrueWinner\"] = \"\"\n",
    "    data[\"TrueLoser\"] = \"\"\n",
    "    data[\"PredWinner\"] = \"\"\n",
    "    data[\"PredLoser\"] = \"\"\n",
    "    for i in xrange(len(data)):\n",
    "        game = data.iloc[i,]\n",
    "        if game[1] > game[3]:\n",
    "            data.iloc[i,5] = game[0]\n",
    "            data.iloc[i,6] = game[2]\n",
    "        else:\n",
    "            data.iloc[i,5] = game[2]\n",
    "            data.iloc[i,6] = game[0]\n",
    "        if model[game[0]] > model[game[2]]:\n",
    "            data.iloc[i,7] = game[0]\n",
    "            data.iloc[i,8] = game[2]\n",
    "        else:\n",
    "            data.iloc[i,7] = game[2]\n",
    "            data.iloc[i,8] = game[0]\n",
    "    return data"
   ]
  },
  {
   "cell_type": "code",
   "execution_count": 144,
   "metadata": {
    "collapsed": false
   },
   "outputs": [
    {
     "name": "stdout",
     "output_type": "stream",
     "text": [
      "[('Golden State Warriors', 1476.5258348195412), ('San Antonio Spurs', 1423.2238663881353), ('Los Angeles Clippers', 1406.136960150845), ('Houston Rockets', 1373.1607606635648), ('Cleveland Cavaliers', 1351.9223062434462), ('Memphis Grizzlies', 1319.9456492661743), ('Atlanta Hawks', 1303.4547455427924), ('Charlotte Bobcats', 1291.061150991954), ('Dallas Mavericks', 1288.3396675567838), ('Boston Celtics', 1285.438775126209), ('New Orleans Pelicans', 1277.947289905757), ('Chicago Bulls', 1275.8417450600987), ('Oklahoma City Thunder', 1272.0080027005245), ('Utah Jazz', 1243.3131684966095), ('Portland Trail Blazers', 1240.0871708510501), ('Indiana Pacers', 1232.3964118278675), ('Toronto Raptors', 1222.439769224653), ('Brooklyn Nets', 1222.0668776984035), ('Washington Wizards', 1210.8854387603506), ('Milwaukee Bucks', 1170.8339470466851), ('Phoenix Suns', 1159.0838678331897), ('Miami Heat', 1152.862613944394), ('Detroit Pistons', 1135.5067491273198), ('Denver Nuggets', 1106.658694930612), ('Sacramento Kings', 1078.2381056354739), ('New Orleans Hornets', 1077.362624366637), ('Charlotte Hornets', 1075.5000260684533), ('New Jersey Nets', 1057.7545343213321), ('Orlando Magic', 1020.3725584341844), ('Los Angeles Lakers', 982.9981083167431), ('New York Knicks', 978.3525617000489), ('Minnesota Timberwolves', 948.8922512317957), ('Philadelphia 76ers', 939.3877657683677)]\n"
     ]
    }
   ],
   "source": [
    "games_train = pd.read_csv('games_train.csv', header=None)\n",
    "elos = train_elos(games_train)\n",
    "dump_elos(elos)\n",
    "games_test = pd.read_csv('games_test.csv', header=None)\n",
    "pred = test_elos(elos, games_test)"
   ]
  },
  {
   "cell_type": "code",
   "execution_count": 152,
   "metadata": {
    "collapsed": false
   },
   "outputs": [
    {
     "data": {
      "text/plain": [
       "0.64715447154471539"
      ]
     },
     "execution_count": 152,
     "metadata": {},
     "output_type": "execute_result"
    }
   ],
   "source": [
    "(sum(pred[\"TrueWinner\"] == pred[\"PredWinner\"])+0.0)/len(pred)"
   ]
  },
  {
   "cell_type": "code",
   "execution_count": 4,
   "metadata": {
    "collapsed": false
   },
   "outputs": [],
   "source": [
    "games = pd.read_csv('games.csv', header=None)"
   ]
  },
  {
   "cell_type": "code",
   "execution_count": 45,
   "metadata": {
    "collapsed": false
   },
   "outputs": [],
   "source": [
    "df1 = pd.DataFrame([games[0], games[1]-games[3], games[4]]).T"
   ]
  },
  {
   "cell_type": "code",
   "execution_count": 47,
   "metadata": {
    "collapsed": false
   },
   "outputs": [],
   "source": [
    "df2 = pd.DataFrame([games[2], games[3]-games[1], games[4]]).T"
   ]
  },
  {
   "cell_type": "code",
   "execution_count": 50,
   "metadata": {
    "collapsed": false
   },
   "outputs": [],
   "source": [
    "df1 = df1.rename(columns={0: 'Team', 'Unnamed 0': 'ScoreDiff', 4: 'Year'})\n",
    "df2 = df2.rename(columns={2: 'Team', 'Unnamed 0': 'ScoreDiff', 4: 'Year'})"
   ]
  },
  {
   "cell_type": "code",
   "execution_count": 51,
   "metadata": {
    "collapsed": false
   },
   "outputs": [],
   "source": [
    "team_scores = pd.concat([df1, df2], ignore_index = True)"
   ]
  },
  {
   "cell_type": "code",
   "execution_count": null,
   "metadata": {
    "collapsed": true
   },
   "outputs": [],
   "source": []
  },
  {
   "cell_type": "code",
   "execution_count": 90,
   "metadata": {
    "collapsed": false
   },
   "outputs": [],
   "source": [
    "elos = {}\n",
    "for team in set(team_scores['Team']):\n",
    "    elos[team] = 1200.0\n",
    "    \n",
    "K = 32\n",
    "for i in xrange(len(games)):\n",
    "    game = games.iloc[i,]\n",
    "    team1 = game[0]\n",
    "    rating1 = elos[team1]\n",
    "    team2 = game[2]\n",
    "    rating2 = elos[team2]\n",
    "    t_rating1 = 10**(rating1/400.0)\n",
    "    t_rating2 = 10**(rating2/400.0)\n",
    "    e_score1 = t_rating1/(t_rating1+t_rating2)\n",
    "    e_score2 = t_rating2/(t_rating1+t_rating2)\n",
    "    if game[1] > game[3]:\n",
    "        s1 = 1\n",
    "        s2 = 0\n",
    "    else:\n",
    "        s1 = 0\n",
    "        s2 = 1\n",
    "    u_rating1 = rating1 + K*(s1-e_score1)\n",
    "    u_rating2 = rating2 + K*(s2-e_score2)\n",
    "    elos[team1] = u_rating1\n",
    "    elos[team2] = u_rating2"
   ]
  },
  {
   "cell_type": "code",
   "execution_count": 91,
   "metadata": {
    "collapsed": true
   },
   "outputs": [],
   "source": [
    "import operator\n",
    "sorted_elos = sorted(elos.items(), key=operator.itemgetter(1))"
   ]
  },
  {
   "cell_type": "code",
   "execution_count": 92,
   "metadata": {
    "collapsed": false
   },
   "outputs": [
    {
     "data": {
      "text/plain": [
       "[('Golden State Warriors', 1456.2734122018471),\n",
       " ('San Antonio Spurs', 1420.0698279396202),\n",
       " ('Los Angeles Clippers', 1334.6113332468972),\n",
       " ('Oklahoma City Thunder', 1319.9166908308803),\n",
       " ('Toronto Raptors', 1297.5066622781537),\n",
       " ('Cleveland Cavaliers', 1292.916946192631),\n",
       " ('Atlanta Hawks', 1275.2306813106652),\n",
       " ('Portland Trail Blazers', 1265.0847217165378),\n",
       " ('Houston Rockets', 1262.002588542613),\n",
       " ('Memphis Grizzlies', 1251.1797294712494),\n",
       " ('Miami Heat', 1248.6807166764),\n",
       " ('Dallas Mavericks', 1247.3391242182256),\n",
       " ('Indiana Pacers', 1232.7854715665717),\n",
       " ('Boston Celtics', 1230.3487170988403),\n",
       " ('Chicago Bulls', 1227.0336387282189),\n",
       " ('Charlotte Hornets', 1223.1701585817657),\n",
       " ('Washington Wizards', 1206.1279348975627),\n",
       " ('Utah Jazz', 1194.1436246952076),\n",
       " ('Detroit Pistons', 1186.2393903562188),\n",
       " ('New Orleans Pelicans', 1158.7471597670983),\n",
       " ('Charlotte Bobcats', 1152.5008488608917),\n",
       " ('Denver Nuggets', 1148.8560414712506),\n",
       " ('New Jersey Nets', 1135.5870942840347),\n",
       " ('Milwaukee Bucks', 1129.4995249730684),\n",
       " ('Sacramento Kings', 1122.7941945355415),\n",
       " ('New Orleans Hornets', 1109.1985035714229),\n",
       " ('Phoenix Suns', 1107.2867805851504),\n",
       " ('Orlando Magic', 1103.9421151909676),\n",
       " ('New York Knicks', 1094.874664725531),\n",
       " ('Minnesota Timberwolves', 1093.607248720457),\n",
       " ('Brooklyn Nets', 1091.818867135529),\n",
       " ('Los Angeles Lakers', 1030.420089043789),\n",
       " ('Philadelphia 76ers', 950.2054965851613)]"
      ]
     },
     "execution_count": 92,
     "metadata": {},
     "output_type": "execute_result"
    }
   ],
   "source": [
    "sorted_elos[::-1]"
   ]
  }
 ],
 "metadata": {
  "anaconda-cloud": {},
  "kernelspec": {
   "display_name": "Python [Root]",
   "language": "python",
   "name": "Python [Root]"
  },
  "language_info": {
   "codemirror_mode": {
    "name": "ipython",
    "version": 2
   },
   "file_extension": ".py",
   "mimetype": "text/x-python",
   "name": "python",
   "nbconvert_exporter": "python",
   "pygments_lexer": "ipython2",
   "version": "2.7.12"
  }
 },
 "nbformat": 4,
 "nbformat_minor": 0
}
