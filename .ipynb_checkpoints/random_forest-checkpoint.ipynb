{
 "cells": [
  {
   "cell_type": "code",
   "execution_count": 3,
   "metadata": {
    "collapsed": false
   },
   "outputs": [],
   "source": [
    "from sklearn.ensemble import RandomForestClassifier\n",
    "import numpy as np\n",
    "import pandas as pd\n",
    "\n",
    "Xtrain = np.array(pd.read_csv('csv/x_train_significant.csv', sep=','))\n",
    "ytrain = np.array(pd.read_csv('csv/y_train.csv', sep=',', header=None))\n",
    "Xtest = np.array(pd.read_csv('csv/x_test_significant.csv', sep=','))\n",
    "ytest = np.array(pd.read_csv('csv/y_test.csv', sep=',', header=None))"
   ]
  },
  {
   "cell_type": "code",
   "execution_count": null,
   "metadata": {
    "collapsed": true
   },
   "outputs": [],
   "source": [
    "sample_leaf_options = [1,5,10,50,100,200,500]\n",
    "max_score = -1\n",
    "max_score_leaf = 0\n",
    "fewest_bad_pairs = ytest.shape[0]/2\n",
    "fewest_bad_pairs_leaf = 0\n",
    "for min_leaf in sample_leaf_options:\n",
    "    clf = RandomForestClassifier(n_estimators=200, max_features=\"sqrt\", min_samples_leaf=min_leaf, oob_score = True)\n",
    "    clf = clf.fit(Xtrain, np.ravel(ytrain))\n",
    "\n",
    "    p = clf.predict(Xtest)\n",
    "    score = clf.score(Xtest, ytest, sample_weight=None)\n",
    "    if (score > max_score):\n",
    "        max_score = score\n",
    "        max_score_leaf = min_leaf\n",
    "\n",
    "    bad_pair = 0\n",
    "    for i in range(int(p.shape[0]/2)):\n",
    "        if p[2*i]==p[2*i+1]:\n",
    "            bad_pair+=1\n",
    "    if (bad_pair < fewest_bad_pairs):\n",
    "        fewest_bad_pairs = bad_pair\n",
    "        fewest_bad_pairs_leaf = min_leaf\n",
    "print('Best rate:', max_score, max_score_leaf, 'min_leaf')\n",
    "print('Fewest bad pairs:', fewest_bad_pairs, fewest_bad_pairs_leaf, 'min_leaf')"
   ]
  },
  {
   "cell_type": "code",
   "execution_count": null,
   "metadata": {
    "collapsed": false
   },
   "outputs": [],
   "source": [
    "n_estimators = [50,100,200,500,750,1000]\n",
    "max_score = -1\n",
    "max_score_trees = 0\n",
    "fewest_bad_pairs = p.shape[0]/2\n",
    "fewest_bad_pairs_trees = 0\n",
    "for n_trees in n_estimators:\n",
    "    clf = RandomForestClassifier(n_estimators=n_trees, max_features=\"sqrt\", \n",
    "                                 min_samples_leaf=max_score_leaf, oob_score = True)\n",
    "    clf = clf.fit(Xtrain, np.ravel(ytrain))\n",
    "\n",
    "    p = clf.predict(Xtest)\n",
    "    score = clf.score(Xtest, ytest, sample_weight=None)\n",
    "    if (score > max_score):\n",
    "        max_score = score\n",
    "        max_score_trees = min_leaf\n",
    "\n",
    "    bad_pair = 0\n",
    "    for i in range(int(p.shape[0]/2)):\n",
    "        if p[2*i]==p[2*i+1]:\n",
    "            bad_pair+=1\n",
    "    if (bad_pair < fewest_bad_pairs):\n",
    "        fewest_bad_pairs = bad_pair\n",
    "        fewest_bad_pairs_trees = min_leaf\n",
    "print('Best rate:', max_score, max_score_trees, 'trees')\n",
    "print('Fewest bad pairs:', fewest_bad_pairs, fewest_bad_pairs_trees, 'trees')"
   ]
  },
  {
   "cell_type": "code",
   "execution_count": 4,
   "metadata": {
    "collapsed": false
   },
   "outputs": [],
   "source": [
    "clf = RandomForestClassifier(n_estimators=500, max_features=\"sqrt\", \n",
    "                                 min_samples_leaf=100, oob_score = True)\n",
    "clf = clf.fit(Xtrain, np.ravel(ytrain))\n",
    "p = clf.predict(Xtest)\n",
    "probs = clf.predict_proba(Xtest)"
   ]
  },
  {
   "cell_type": "code",
   "execution_count": 5,
   "metadata": {
    "collapsed": false
   },
   "outputs": [
    {
     "data": {
      "text/plain": [
       "[('Los Angeles Lakers', 29.367186892164895),\n",
       " ('Philadelphia 76ers', 29.905115416817761),\n",
       " ('Denver Nuggets', 30.260341266133921),\n",
       " ('Minnesota Timberwolves', 30.671231871699366),\n",
       " ('New York Knicks', 30.798198541428096),\n",
       " ('Charlotte Hornets', 31.501948630750917),\n",
       " ('Detroit Pistons', 31.643766864816488),\n",
       " ('Orlando Magic', 31.832153583949552),\n",
       " ('Sacramento Kings', 31.919075665431084),\n",
       " ('Miami Heat', 36.612507031921069),\n",
       " ('Phoenix Suns', 37.805993381871296),\n",
       " ('Milwaukee Bucks', 38.838380507351857),\n",
       " ('Indiana Pacers', 40.902488406476486),\n",
       " ('Utah Jazz', 41.784329125719431),\n",
       " ('New Orleans Pelicans', 43.465039905069915),\n",
       " ('Brooklyn Nets', 43.465987785578015),\n",
       " ('Oklahoma City Thunder', 43.565331706614842),\n",
       " ('Boston Celtics', 44.107909268477229),\n",
       " ('Washington Wizards', 44.961540243660281),\n",
       " ('Memphis Grizzlies', 45.301906292612159),\n",
       " ('Portland Trail Blazers', 45.839513511764103),\n",
       " ('Chicago Bulls', 46.617064905474592),\n",
       " ('Toronto Raptors', 46.839125945165691),\n",
       " ('Houston Rockets', 46.857286708078675),\n",
       " ('Dallas Mavericks', 48.372382340338518),\n",
       " ('Cleveland Cavaliers', 48.965440739836474),\n",
       " ('Los Angeles Clippers', 51.63469907328723),\n",
       " ('Golden State Warriors', 51.872925538452755),\n",
       " ('Atlanta Hawks', 52.015380909780504),\n",
       " ('San Antonio Spurs', 52.275747939276727)]"
      ]
     },
     "execution_count": 5,
     "metadata": {},
     "output_type": "execute_result"
    }
   ],
   "source": [
    "games_test = pd.read_csv('games_test.csv', header=None)\n",
    "wins = {}\n",
    "for i in range(len(games_test)):\n",
    "    away_win = (probs[2*i][1]+probs[2*i+1][0])/2\n",
    "    home_win = (probs[2*i][0]+probs[2*i+1][1])/2\n",
    "    away = games_test.loc[i,0]\n",
    "    home = games_test.loc[i,2]\n",
    "    if away not in wins:\n",
    "        wins[away] = away_win\n",
    "    else:\n",
    "        wins[away] += away_win\n",
    "    if home not in wins:\n",
    "        wins[home] = home_win\n",
    "    else:\n",
    "        wins[home] += home_win\n",
    "[(team, wins[team]) for team in sorted(wins, key=wins.get)]"
   ]
  },
  {
   "cell_type": "code",
   "execution_count": 6,
   "metadata": {
    "collapsed": false
   },
   "outputs": [
    {
     "data": {
      "text/plain": [
       "10.289152864384253"
      ]
     },
     "execution_count": 6,
     "metadata": {},
     "output_type": "execute_result"
    }
   ],
   "source": [
    "import pred_to_record\n",
    "pred_to_record.pred_to_record(p)\n",
    "pred_to_record.pred_to_record([prob[1] for prob in probs])\n",
    "pred_to_record.rms(p)\n",
    "pred_to_record.rms_round([prob[1] for prob in probs])"
   ]
  }
 ],
 "metadata": {
  "kernelspec": {
   "display_name": "Python 2",
   "language": "python",
   "name": "python2"
  },
  "language_info": {
   "codemirror_mode": {
    "name": "ipython",
    "version": 2
   },
   "file_extension": ".py",
   "mimetype": "text/x-python",
   "name": "python",
   "nbconvert_exporter": "python",
   "pygments_lexer": "ipython2",
   "version": "2.7.12"
  }
 },
 "nbformat": 4,
 "nbformat_minor": 0
}
