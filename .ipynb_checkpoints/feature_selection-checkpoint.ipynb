{
 "cells": [
  {
   "cell_type": "code",
   "execution_count": 5,
   "metadata": {
    "collapsed": true
   },
   "outputs": [],
   "source": [
    "import numpy as np\n",
    "import pandas as pd\n",
    "from sklearn.feature_selection import f_regression"
   ]
  },
  {
   "cell_type": "code",
   "execution_count": 6,
   "metadata": {
    "collapsed": true
   },
   "outputs": [],
   "source": [
    "x_train = pd.read_csv('csv/x_train.csv')\n",
    "y_train = pd.read_csv('csv/y_train.csv', header=None)\n",
    "x_test = pd.read_csv('csv/x_test.csv')\n",
    "y_test = pd.read_csv('csv/y_test.csv', header=None)"
   ]
  },
  {
   "cell_type": "code",
   "execution_count": 10,
   "metadata": {
    "collapsed": false
   },
   "outputs": [],
   "source": [
    "f, pval = f_regression(x_train, np.ravel(y_train), center=True)"
   ]
  },
  {
   "cell_type": "code",
   "execution_count": 23,
   "metadata": {
    "collapsed": true
   },
   "outputs": [],
   "source": [
    "cols = x_train.columns"
   ]
  },
  {
   "cell_type": "code",
   "execution_count": 25,
   "metadata": {
    "collapsed": false
   },
   "outputs": [
    {
     "data": {
      "text/plain": [
       "'OffFG'"
      ]
     },
     "execution_count": 25,
     "metadata": {},
     "output_type": "execute_result"
    }
   ],
   "source": [
    "cols[0]"
   ]
  },
  {
   "cell_type": "code",
   "execution_count": 26,
   "metadata": {
    "collapsed": false
   },
   "outputs": [
    {
     "data": {
      "text/plain": [
       "'OppOffFG'"
      ]
     },
     "execution_count": 26,
     "metadata": {},
     "output_type": "execute_result"
    }
   ],
   "source": [
    "cols[42]"
   ]
  },
  {
   "cell_type": "code",
   "execution_count": 27,
   "metadata": {
    "collapsed": false
   },
   "outputs": [
    {
     "data": {
      "text/plain": [
       "0       2446\n",
       "1       2398\n",
       "2       2439\n",
       "3       2489\n",
       "4       2467\n",
       "5       2429\n",
       "6       2341\n",
       "7       2365\n",
       "8       2275\n",
       "9       2462\n",
       "10      2502\n",
       "11      2462\n",
       "12      2268\n",
       "13      2261\n",
       "14      2572\n",
       "15      2398\n",
       "16      2467\n",
       "17      2489\n",
       "18      2291\n",
       "19      2354\n",
       "20      2462\n",
       "21      2355\n",
       "22      2489\n",
       "23      2275\n",
       "24      2489\n",
       "25      2495\n",
       "26      2471\n",
       "27      2402\n",
       "28      2429\n",
       "29      2490\n",
       "        ... \n",
       "9328    3228\n",
       "9329    3178\n",
       "9330    3076\n",
       "9331    3069\n",
       "9332    3121\n",
       "9333    3001\n",
       "9334    3139\n",
       "9335    3089\n",
       "9336    3175\n",
       "9337    3255\n",
       "9338    3099\n",
       "9339    3410\n",
       "9340    2900\n",
       "9341    3032\n",
       "9342    3010\n",
       "9343    3054\n",
       "9344    2998\n",
       "9345    3097\n",
       "9346    3193\n",
       "9347    3083\n",
       "9348    3184\n",
       "9349    2986\n",
       "9350    3208\n",
       "9351    3108\n",
       "9352    3041\n",
       "9353    2882\n",
       "9354    2885\n",
       "9355    2765\n",
       "9356    2913\n",
       "9357    3108\n",
       "Name: OffFG, dtype: int64"
      ]
     },
     "execution_count": 27,
     "metadata": {},
     "output_type": "execute_result"
    }
   ],
   "source": [
    "x_train[cols[0]]"
   ]
  },
  {
   "cell_type": "code",
   "execution_count": 29,
   "metadata": {
    "collapsed": false
   },
   "outputs": [
    {
     "data": {
      "text/plain": [
       "0       2398\n",
       "1       2446\n",
       "2       2489\n",
       "3       2439\n",
       "4       2429\n",
       "5       2467\n",
       "6       2365\n",
       "7       2341\n",
       "8       2462\n",
       "9       2275\n",
       "10      2462\n",
       "11      2502\n",
       "12      2261\n",
       "13      2268\n",
       "14      2398\n",
       "15      2572\n",
       "16      2489\n",
       "17      2467\n",
       "18      2354\n",
       "19      2291\n",
       "20      2355\n",
       "21      2462\n",
       "22      2275\n",
       "23      2489\n",
       "24      2495\n",
       "25      2489\n",
       "26      2402\n",
       "27      2471\n",
       "28      2490\n",
       "29      2429\n",
       "        ... \n",
       "9328    3178\n",
       "9329    3228\n",
       "9330    3069\n",
       "9331    3076\n",
       "9332    3001\n",
       "9333    3121\n",
       "9334    3089\n",
       "9335    3139\n",
       "9336    3255\n",
       "9337    3175\n",
       "9338    3410\n",
       "9339    3099\n",
       "9340    3032\n",
       "9341    2900\n",
       "9342    3054\n",
       "9343    3010\n",
       "9344    3097\n",
       "9345    2998\n",
       "9346    3083\n",
       "9347    3193\n",
       "9348    2986\n",
       "9349    3184\n",
       "9350    3108\n",
       "9351    3208\n",
       "9352    2882\n",
       "9353    3041\n",
       "9354    2765\n",
       "9355    2885\n",
       "9356    3108\n",
       "9357    2913\n",
       "Name: OppOffFG, dtype: int64"
      ]
     },
     "execution_count": 29,
     "metadata": {},
     "output_type": "execute_result"
    }
   ],
   "source": [
    "x_train[cols[42]]"
   ]
  },
  {
   "cell_type": "code",
   "execution_count": 34,
   "metadata": {
    "collapsed": false
   },
   "outputs": [
    {
     "data": {
      "text/plain": [
       "Index([u'OffFGA', u'Off2P', u'OffTRB', u'Def2PA', u'DefFT', u'DefFTA',\n",
       "       u'DefFT%', u'DefSTL', u'DefTOV', u'DefPF', u'OppOffFGA', u'OppOff2P',\n",
       "       u'OppOffTRB', u'OppDef2PA', u'OppDefFT', u'OppDefFTA', u'OppDefFT%',\n",
       "       u'OppDefSTL', u'OppDefTOV', u'OppDefPF', u'YrsSince2011'],\n",
       "      dtype='object')"
      ]
     },
     "execution_count": 34,
     "metadata": {},
     "output_type": "execute_result"
    }
   ],
   "source": [
    "cols[pval>0.01]"
   ]
  }
 ],
 "metadata": {
  "kernelspec": {
   "display_name": "Python [Root]",
   "language": "python",
   "name": "Python [Root]"
  },
  "language_info": {
   "codemirror_mode": {
    "name": "ipython",
    "version": 2
   },
   "file_extension": ".py",
   "mimetype": "text/x-python",
   "name": "python",
   "nbconvert_exporter": "python",
   "pygments_lexer": "ipython2",
   "version": "2.7.12"
  }
 },
 "nbformat": 4,
 "nbformat_minor": 0
}
