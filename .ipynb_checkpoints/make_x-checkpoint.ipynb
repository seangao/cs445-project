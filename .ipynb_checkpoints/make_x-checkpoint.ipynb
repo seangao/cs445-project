{
 "cells": [
  {
   "cell_type": "code",
   "execution_count": 54,
   "metadata": {
    "collapsed": false
   },
   "outputs": [],
   "source": [
    "import numpy as np\n",
    "import pandas as pd\n"
   ]
  },
  {
   "cell_type": "code",
   "execution_count": 55,
   "metadata": {
    "collapsed": false
   },
   "outputs": [],
   "source": [
    "all_games = pd.read_csv('csv/games.csv', header=None)\n",
    "\n",
    "# for i in [0, 2]:\n",
    "#     all_games[i][all_games[i] == 'New Jersey Nets'] = 'Brooklyn Nets'\n",
    "#     all_games[i][all_games[i] == 'Charlotte Bobcats'] = 'Charlotte Hornets'\n",
    "#     all_games[i][all_games[i] == 'New Orleans Hornets'] = 'New Orleans Pelicans'\n",
    "# all_games.to_csv('csv/games.csv', index=None, header=None)\n",
    "\n",
    "total_wins = {}\n",
    "for year in xrange(2011, 2016):\n",
    "    wins = {}\n",
    "    games = all_games[all_games[4] == year]\n",
    "    for index, game in games.iterrows():\n",
    "        if game[3] > game[1]:\n",
    "            if game[2] not in wins:\n",
    "                wins[game[2]] = 1\n",
    "            else:\n",
    "                wins[game[2]] += 1\n",
    "        else:\n",
    "            if game[0] not in wins:\n",
    "                wins[game[0]] = 1\n",
    "            else:\n",
    "                wins[game[0]] += 1\n",
    "    total_wins[year] = wins"
   ]
  },
  {
   "cell_type": "code",
   "execution_count": 56,
   "metadata": {
    "collapsed": false
   },
   "outputs": [],
   "source": [
    "team_stats = {}\n",
    "for year in range(2011, 2017):\n",
    "    off = pd.read_csv('csv/team_stats/off/'+str(year)+'.csv').sort_values(by=['Team'])\n",
    "    off.columns = ['Off'+col if col!='Team' else col for col in off.columns]\n",
    "    defense = pd.read_csv('csv/team_stats/def/'+str(year)+'.csv').sort_values(['Team'])\n",
    "    defense.columns = ['Def'+col for col in defense.columns]\n",
    "    off_col = [off.columns.values[1]]+list(off.columns.values[4:])\n",
    "    def_col = list(defense.columns.values)[4:]\n",
    "    team_stats[year] = pd.concat([off[off_col], defense[def_col]], axis=1)\n",
    "team_stat_names = list(team_stats[2011].columns.values)[1:]\n",
    "opp_stat_names = ['Opp'+name for name in team_stat_names]\n",
    "column_names = team_stat_names + opp_stat_names\n",
    "column_names.append('YrsSince2011')\n",
    "column_names.append('Home')\n",
    "column_names.append('OffWins')\n",
    "column_names.append('DefWins')\n",
    "column_names.append('OffElo')\n",
    "column_names.append('DefElo')"
   ]
  },
  {
   "cell_type": "code",
   "execution_count": 57,
   "metadata": {
    "collapsed": false
   },
   "outputs": [
    {
     "ename": "KeyError",
     "evalue": "5",
     "output_type": "error",
     "traceback": [
      "\u001b[0;31m---------------------------------------------------------------------------\u001b[0m",
      "\u001b[0;31mKeyError\u001b[0m                                  Traceback (most recent call last)",
      "\u001b[0;32m<ipython-input-57-d8a215328f3b>\u001b[0m in \u001b[0;36m<module>\u001b[0;34m()\u001b[0m\n\u001b[1;32m     21\u001b[0m     \u001b[0mfeatures\u001b[0m\u001b[0;34m.\u001b[0m\u001b[0mto_csv\u001b[0m\u001b[0;34m(\u001b[0m\u001b[0;34m'csv/x_'\u001b[0m\u001b[0;34m+\u001b[0m\u001b[0mtrain_or_test\u001b[0m\u001b[0;34m+\u001b[0m\u001b[0;34m'.csv'\u001b[0m\u001b[0;34m,\u001b[0m\u001b[0mindex\u001b[0m\u001b[0;34m=\u001b[0m\u001b[0mNone\u001b[0m\u001b[0;34m)\u001b[0m\u001b[0;34m\u001b[0m\u001b[0m\n\u001b[1;32m     22\u001b[0m \u001b[0mmake_x\u001b[0m\u001b[0;34m(\u001b[0m\u001b[0;34m'train'\u001b[0m\u001b[0;34m)\u001b[0m\u001b[0;34m\u001b[0m\u001b[0m\n\u001b[0;32m---> 23\u001b[0;31m \u001b[0mmake_x\u001b[0m\u001b[0;34m(\u001b[0m\u001b[0;34m'test'\u001b[0m\u001b[0;34m)\u001b[0m\u001b[0;34m\u001b[0m\u001b[0m\n\u001b[0m",
      "\u001b[0;32m<ipython-input-57-d8a215328f3b>\u001b[0m in \u001b[0;36mmake_x\u001b[0;34m(train_or_test)\u001b[0m\n\u001b[1;32m      6\u001b[0m         \u001b[0maway_team\u001b[0m \u001b[0;34m=\u001b[0m \u001b[0mgame\u001b[0m\u001b[0;34m[\u001b[0m\u001b[0;36m0\u001b[0m\u001b[0;34m]\u001b[0m\u001b[0;34m\u001b[0m\u001b[0m\n\u001b[1;32m      7\u001b[0m         \u001b[0mhome_team\u001b[0m \u001b[0;34m=\u001b[0m \u001b[0mgame\u001b[0m\u001b[0;34m[\u001b[0m\u001b[0;36m2\u001b[0m\u001b[0;34m]\u001b[0m\u001b[0;34m\u001b[0m\u001b[0m\n\u001b[0;32m----> 8\u001b[0;31m         \u001b[0maway_elo\u001b[0m \u001b[0;34m=\u001b[0m \u001b[0mgame\u001b[0m\u001b[0;34m[\u001b[0m\u001b[0;36m5\u001b[0m\u001b[0;34m]\u001b[0m\u001b[0;34m\u001b[0m\u001b[0m\n\u001b[0m\u001b[1;32m      9\u001b[0m         \u001b[0mhome_elo\u001b[0m \u001b[0;34m=\u001b[0m \u001b[0mgame\u001b[0m\u001b[0;34m[\u001b[0m\u001b[0;36m6\u001b[0m\u001b[0;34m]\u001b[0m\u001b[0;34m\u001b[0m\u001b[0m\n\u001b[1;32m     10\u001b[0m         \u001b[0maway_wins\u001b[0m \u001b[0;34m=\u001b[0m \u001b[0mtotal_wins\u001b[0m\u001b[0;34m[\u001b[0m\u001b[0myear\u001b[0m \u001b[0;34m-\u001b[0m \u001b[0;36m1\u001b[0m\u001b[0;34m]\u001b[0m\u001b[0;34m[\u001b[0m\u001b[0maway_team\u001b[0m\u001b[0;34m]\u001b[0m\u001b[0;34m\u001b[0m\u001b[0m\n",
      "\u001b[0;32m//anaconda/lib/python2.7/site-packages/pandas/core/series.pyc\u001b[0m in \u001b[0;36m__getitem__\u001b[0;34m(self, key)\u001b[0m\n\u001b[1;32m    581\u001b[0m         \u001b[0mkey\u001b[0m \u001b[0;34m=\u001b[0m \u001b[0mcom\u001b[0m\u001b[0;34m.\u001b[0m\u001b[0m_apply_if_callable\u001b[0m\u001b[0;34m(\u001b[0m\u001b[0mkey\u001b[0m\u001b[0;34m,\u001b[0m \u001b[0mself\u001b[0m\u001b[0;34m)\u001b[0m\u001b[0;34m\u001b[0m\u001b[0m\n\u001b[1;32m    582\u001b[0m         \u001b[0;32mtry\u001b[0m\u001b[0;34m:\u001b[0m\u001b[0;34m\u001b[0m\u001b[0m\n\u001b[0;32m--> 583\u001b[0;31m             \u001b[0mresult\u001b[0m \u001b[0;34m=\u001b[0m \u001b[0mself\u001b[0m\u001b[0;34m.\u001b[0m\u001b[0mindex\u001b[0m\u001b[0;34m.\u001b[0m\u001b[0mget_value\u001b[0m\u001b[0;34m(\u001b[0m\u001b[0mself\u001b[0m\u001b[0;34m,\u001b[0m \u001b[0mkey\u001b[0m\u001b[0;34m)\u001b[0m\u001b[0;34m\u001b[0m\u001b[0m\n\u001b[0m\u001b[1;32m    584\u001b[0m \u001b[0;34m\u001b[0m\u001b[0m\n\u001b[1;32m    585\u001b[0m             \u001b[0;32mif\u001b[0m \u001b[0;32mnot\u001b[0m \u001b[0mlib\u001b[0m\u001b[0;34m.\u001b[0m\u001b[0misscalar\u001b[0m\u001b[0;34m(\u001b[0m\u001b[0mresult\u001b[0m\u001b[0;34m)\u001b[0m\u001b[0;34m:\u001b[0m\u001b[0;34m\u001b[0m\u001b[0m\n",
      "\u001b[0;32m//anaconda/lib/python2.7/site-packages/pandas/indexes/base.pyc\u001b[0m in \u001b[0;36mget_value\u001b[0;34m(self, series, key)\u001b[0m\n\u001b[1;32m   1978\u001b[0m         \u001b[0;32mtry\u001b[0m\u001b[0;34m:\u001b[0m\u001b[0;34m\u001b[0m\u001b[0m\n\u001b[1;32m   1979\u001b[0m             return self._engine.get_value(s, k,\n\u001b[0;32m-> 1980\u001b[0;31m                                           tz=getattr(series.dtype, 'tz', None))\n\u001b[0m\u001b[1;32m   1981\u001b[0m         \u001b[0;32mexcept\u001b[0m \u001b[0mKeyError\u001b[0m \u001b[0;32mas\u001b[0m \u001b[0me1\u001b[0m\u001b[0;34m:\u001b[0m\u001b[0;34m\u001b[0m\u001b[0m\n\u001b[1;32m   1982\u001b[0m             \u001b[0;32mif\u001b[0m \u001b[0mlen\u001b[0m\u001b[0;34m(\u001b[0m\u001b[0mself\u001b[0m\u001b[0;34m)\u001b[0m \u001b[0;34m>\u001b[0m \u001b[0;36m0\u001b[0m \u001b[0;32mand\u001b[0m \u001b[0mself\u001b[0m\u001b[0;34m.\u001b[0m\u001b[0minferred_type\u001b[0m \u001b[0;32min\u001b[0m \u001b[0;34m[\u001b[0m\u001b[0;34m'integer'\u001b[0m\u001b[0;34m,\u001b[0m \u001b[0;34m'boolean'\u001b[0m\u001b[0;34m]\u001b[0m\u001b[0;34m:\u001b[0m\u001b[0;34m\u001b[0m\u001b[0m\n",
      "\u001b[0;32mpandas/index.pyx\u001b[0m in \u001b[0;36mpandas.index.IndexEngine.get_value (pandas/index.c:3332)\u001b[0;34m()\u001b[0m\n",
      "\u001b[0;32mpandas/index.pyx\u001b[0m in \u001b[0;36mpandas.index.IndexEngine.get_value (pandas/index.c:3035)\u001b[0;34m()\u001b[0m\n",
      "\u001b[0;32mpandas/index.pyx\u001b[0m in \u001b[0;36mpandas.index.IndexEngine.get_loc (pandas/index.c:4018)\u001b[0;34m()\u001b[0m\n",
      "\u001b[0;32mpandas/hashtable.pyx\u001b[0m in \u001b[0;36mpandas.hashtable.Int64HashTable.get_item (pandas/hashtable.c:6610)\u001b[0;34m()\u001b[0m\n",
      "\u001b[0;32mpandas/hashtable.pyx\u001b[0m in \u001b[0;36mpandas.hashtable.Int64HashTable.get_item (pandas/hashtable.c:6554)\u001b[0;34m()\u001b[0m\n",
      "\u001b[0;31mKeyError\u001b[0m: 5"
     ]
    }
   ],
   "source": [
    "def make_x(train_or_test):\n",
    "    data = pd.read_csv('games_'+train_or_test+'.csv', delimiter=',', header=None)\n",
    "    features = pd.DataFrame(index=range(data.shape[0]*2), columns = column_names)\n",
    "    for data_ind, game in data.iterrows():\n",
    "        year = game[4]\n",
    "        away_team = game[0]\n",
    "        home_team = game[2]\n",
    "        away_elo = game[5]\n",
    "        home_elo = game[6]\n",
    "        away_wins = total_wins[year - 1][away_team]\n",
    "        home_wins = total_wins[year - 1][home_team]\n",
    "        for team_ind,team in team_stats[year-1].iterrows():\n",
    "            if team['Team']==away_team:\n",
    "                away_team_stats=team[team_stat_names]\n",
    "            if team['Team']==home_team:\n",
    "                home_team_stats=team[team_stat_names]\n",
    "        away_row = np.concatenate((away_team_stats.append(home_team_stats).as_matrix(),[year-2011],[0],[home_wins],[away_wins],[home_elo],[away_elo]))\n",
    "        home_row = np.concatenate((home_team_stats.append(away_team_stats).as_matrix(),[year-2011],[1],[away_wins],[home_wins],[away_elo],[home_elo]))\n",
    "        features.loc[2*data_ind] = away_row\n",
    "        features.loc[2*data_ind+1] = home_row\n",
    "    features.to_csv('csv/x_'+train_or_test+'.csv',index=None)\n",
    "make_x('train')\n",
    "make_x('test')"
   ]
  },
  {
   "cell_type": "code",
   "execution_count": null,
   "metadata": {
    "collapsed": true
   },
   "outputs": [],
   "source": []
  }
 ],
 "metadata": {
  "kernelspec": {
   "display_name": "Python [Root]",
   "language": "python",
   "name": "Python [Root]"
  },
  "language_info": {
   "codemirror_mode": {
    "name": "ipython",
    "version": 2
   },
   "file_extension": ".py",
   "mimetype": "text/x-python",
   "name": "python",
   "nbconvert_exporter": "python",
   "pygments_lexer": "ipython2",
   "version": "2.7.12"
  }
 },
 "nbformat": 4,
 "nbformat_minor": 0
}
