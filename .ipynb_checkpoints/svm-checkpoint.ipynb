{
 "cells": [
  {
   "cell_type": "code",
   "execution_count": 29,
   "metadata": {
    "collapsed": true
   },
   "outputs": [],
   "source": [
    "from sklearn import svm\n",
    "import pandas as pd\n",
    "import numpy as np\n",
    "from sklearn.preprocessing import normalize"
   ]
  },
  {
   "cell_type": "code",
   "execution_count": 20,
   "metadata": {
    "collapsed": false
   },
   "outputs": [],
   "source": [
    "Xtrain = np.array(pd.read_csv('csv/x_train.csv', sep=','))\n",
    "ytrain = np.array(pd.read_csv('csv/y_train.csv', sep=',', header=None))\n",
    "Xtest = np.array(pd.read_csv('csv/x_test.csv', sep=','))\n",
    "ytest = np.array(pd.read_csv('csv/y_test.csv', sep=',', header=None))"
   ]
  },
  {
   "cell_type": "code",
   "execution_count": 21,
   "metadata": {
    "collapsed": false
   },
   "outputs": [],
   "source": [
    "clf = svm.SVC(C = 0.5, kernel='linear')\n",
    "clf.fit(Xtrain, np.ravel(ytrain))\n",
    "\n",
    "p = clf.predict(Xtest)"
   ]
  },
  {
   "cell_type": "code",
   "execution_count": 10,
   "metadata": {
    "collapsed": false
   },
   "outputs": [
    {
     "data": {
      "text/plain": [
       "array([ -5.12952179e-02,  -1.90605782e+00,   4.07787064e-02,\n",
       "         8.15115877e-01,  -1.31285138e+00,  -5.25833262e-02,\n",
       "        -8.66411095e-01,  -5.93206445e-01,   6.03430857e-02,\n",
       "         6.73649361e-01,  -1.82406650e+00,   2.48463308e-01,\n",
       "         1.24178126e+00,   4.08291702e-01,   1.65007297e+00,\n",
       "         3.15841569e-01,   3.44068603e+00,   1.38166532e+00,\n",
       "        -1.70579578e+00,  -8.83413810e-01,   1.38617480e+00,\n",
       "         2.28343964e-01,   2.41791670e-01,  -5.88762806e-03,\n",
       "        -1.25822467e+00,   8.88041026e-01,   9.84926424e-03,\n",
       "         1.48656863e+00,  -6.46249358e-01,  -4.30911038e-03,\n",
       "        -1.16145380e-01,   3.35926564e-01,   5.18876143e-02,\n",
       "        -6.93268299e-01,   4.71128709e-01,  -2.22139595e-01,\n",
       "         4.51224495e-01,   1.67721593e+00,   2.97386052e-01,\n",
       "         3.18102703e-01,   1.76964168e-01,  -9.17682116e-01,\n",
       "        -9.21958068e-02,   1.05061113e+00,  -5.09193424e-02,\n",
       "         9.08538480e-01,  -1.19058426e-02,   8.01913415e-02,\n",
       "        -1.00073429e+00,   1.06251697e+00,  -5.84005556e-02,\n",
       "        -1.25778143e+00,   1.68778286e+00,  -7.51710410e-02,\n",
       "        -1.50683094e+00,  -9.38018842e-02,  -1.60063283e+00,\n",
       "        -5.16089305e-01,  -1.67624497e+00,  -2.03879831e-01,\n",
       "         2.75437567e+00,   4.08530128e-01,  -5.33634567e-01,\n",
       "         3.62304468e-02,   5.08283763e-01,  -4.09296112e-03,\n",
       "         3.74005739e-03,   4.34210747e-01,  -8.64463318e-02,\n",
       "         3.24903910e-02,   7.40730152e-02,   2.66470457e-03,\n",
       "        -1.36657691e-02,  -2.16019225e-01,  -4.98161267e-02,\n",
       "         8.71460555e-01,  -6.87058307e-01,   1.84402248e-01,\n",
       "        -1.00771194e-01,  -2.98583633e+00,   6.13217318e-01,\n",
       "         2.95759018e-01,   5.03301552e-02,   6.25351820e-02,\n",
       "        -1.16553603e+01])"
      ]
     },
     "execution_count": 10,
     "metadata": {},
     "output_type": "execute_result"
    }
   ],
   "source": [
    "clf.coef_[0]"
   ]
  },
  {
   "cell_type": "code",
   "execution_count": 18,
   "metadata": {
    "collapsed": false
   },
   "outputs": [
    {
     "data": {
      "text/plain": [
       "0.60162601626016265"
      ]
     },
     "execution_count": 18,
     "metadata": {},
     "output_type": "execute_result"
    }
   ],
   "source": [
    "np.sum(p == np.ravel(ytest)) / (len(p) + 0.0)"
   ]
  },
  {
   "cell_type": "code",
   "execution_count": 23,
   "metadata": {
    "collapsed": false
   },
   "outputs": [],
   "source": [
    "c = clf.decision_function(Xtest)"
   ]
  },
  {
   "cell_type": "code",
   "execution_count": 26,
   "metadata": {
    "collapsed": false
   },
   "outputs": [
    {
     "data": {
      "text/plain": [
       "(-1322.1715176025396, 1362.0444226941104)"
      ]
     },
     "execution_count": 26,
     "metadata": {},
     "output_type": "execute_result"
    }
   ],
   "source": [
    "min(c), max(c)"
   ]
  },
  {
   "cell_type": "code",
   "execution_count": 27,
   "metadata": {
    "collapsed": false
   },
   "outputs": [
    {
     "data": {
      "text/plain": [
       "array([-577.80823409,  548.09421433,   -7.64651155, -131.45643424,\n",
       "       -628.24025326,  706.68184639, -758.88572388,  783.76167054,\n",
       "       -200.32305276,  129.39330179,  283.31770147, -427.14302408,\n",
       "       -699.64101022,  485.45339979,  -11.28642671,   50.76416165,\n",
       "       -343.16853272,  206.73836894, -469.00712966,  331.05701173,\n",
       "       -600.08485358,  508.76553334,  464.48452688, -482.1279087 ,\n",
       "        272.97755516, -350.72706287,  -54.08435958,  -75.9407612 ,\n",
       "       -371.6994596 ,  278.98916281,  420.69985319, -418.02956694,\n",
       "       -301.21905696,  209.8191343 ,  265.45514257, -341.89371102,\n",
       "       -230.55525254,   -8.38151699,  569.45399196, -633.8361057 ,\n",
       "       -693.91877352,  667.44978274,  -54.42471313,  -91.57573908,\n",
       "       -431.16506951,  294.85312594, -422.64603632,  411.66800732,\n",
       "        182.39588983, -326.38180756,  250.02534504, -277.39952408,\n",
       "         37.43114955,  -62.59947168,  109.06221152, -220.67365127,\n",
       "        694.72631533, -673.86062013,    0.89066655, -136.16054814,\n",
       "       -411.82781362,  492.46602161, -443.91725253,  501.71710504,\n",
       "         28.18489815, -107.12792598, -582.53449552,  585.20478178,\n",
       "       -370.63330852,  302.36907823,  542.17688728, -463.73514157,\n",
       "       -300.66553777,  165.39583928, -763.33795469,  610.04545606,\n",
       "        365.06593192, -370.04072308, -463.31433093,  360.20208246,\n",
       "        502.94448794, -529.41415011,  679.93994392, -840.90654587,\n",
       "        160.23594392, -324.40884971, -418.98292219,  225.38377214,\n",
       "       -305.53265988,  242.70064528, -224.31886505,  240.73214556,\n",
       "       -277.14503568,  281.52739675, -440.34791254,  264.88222361,\n",
       "       -293.4871025 ,  115.04698659,  769.13343579, -764.44845699])"
      ]
     },
     "execution_count": 27,
     "metadata": {},
     "output_type": "execute_result"
    }
   ],
   "source": [
    "c[:100]"
   ]
  },
  {
   "cell_type": "code",
   "execution_count": 28,
   "metadata": {
    "collapsed": false
   },
   "outputs": [
    {
     "data": {
      "text/plain": [
       "array([ 0.,  1.,  0.,  0.,  0.,  1.,  0.,  1.,  0.,  1.,  1.,  0.,  0.,\n",
       "        1.,  0.,  1.,  0.,  1.,  0.,  1.,  0.,  1.,  1.,  0.,  1.,  0.,\n",
       "        0.,  0.,  0.,  1.,  1.,  0.,  0.,  1.,  1.,  0.,  0.,  0.,  1.,\n",
       "        0.,  0.,  1.,  0.,  0.,  0.,  1.,  0.,  1.,  1.,  0.,  1.,  0.,\n",
       "        1.,  0.,  1.,  0.,  1.,  0.,  1.,  0.,  0.,  1.,  0.,  1.,  1.,\n",
       "        0.,  0.,  1.,  0.,  1.,  1.,  0.,  0.,  1.,  0.,  1.,  1.,  0.,\n",
       "        0.,  1.,  1.,  0.,  1.,  0.,  1.,  0.,  0.,  1.,  0.,  1.,  0.,\n",
       "        1.,  0.,  1.,  0.,  1.,  0.,  1.,  1.,  0.])"
      ]
     },
     "execution_count": 28,
     "metadata": {},
     "output_type": "execute_result"
    }
   ],
   "source": [
    "p[:100]"
   ]
  },
  {
   "cell_type": "code",
   "execution_count": 70,
   "metadata": {
    "collapsed": false
   },
   "outputs": [
    {
     "data": {
      "text/plain": [
       "array([ 0.22370858,  0.76498396,  0.49588382, ...,  0.7409548 ,\n",
       "        0.49897062,  0.50197765])"
      ]
     },
     "execution_count": 70,
     "metadata": {},
     "output_type": "execute_result"
    }
   ],
   "source": [
    "probs = (np.ones(c.shape) / (1+np.exp(-50 * (c / np.linalg.norm(c)))))\n",
    "final_probs = [probs[i] / (probs[i] + probs[i+1]) for i in xrange(len(probs) / 2)]\n",
    "probs"
   ]
  },
  {
   "cell_type": "code",
   "execution_count": 71,
   "metadata": {
    "collapsed": false
   },
   "outputs": [
    {
     "data": {
      "text/plain": [
       "{'Atlanta Hawks': [50.442128057389873, 31.557871942610127],\n",
       " 'Boston Celtics': [43.498215037789379, 38.501784962210621],\n",
       " 'Brooklyn Nets': [47.341723144116152, 34.658276855883841],\n",
       " 'Charlotte Hornets': [24.494602964608841, 57.505397035391155],\n",
       " 'Chicago Bulls': [42.552387985305508, 39.447612014694499],\n",
       " 'Cleveland Cavaliers': [48.652112871270788, 33.347887128729198],\n",
       " 'Dallas Mavericks': [45.5349339093042, 36.465066090695792],\n",
       " 'Denver Nuggets': [27.147036347591133, 54.852963652408882],\n",
       " 'Detroit Pistons': [28.286228038536343, 53.713771961463671],\n",
       " 'Golden State Warriors': [62.942485282102439, 19.057514717897551],\n",
       " 'Houston Rockets': [47.543337584129532, 34.456662415870461],\n",
       " 'Indiana Pacers': [40.906242370251832, 41.093757629748175],\n",
       " 'Los Angeles Clippers': [46.218842483040255, 35.781157516959745],\n",
       " 'Los Angeles Lakers': [15.397669905031002, 66.602330094969005],\n",
       " 'Memphis Grizzlies': [54.058352440808598, 27.941647559191413],\n",
       " 'Miami Heat': [36.689405755137187, 45.310594244862813],\n",
       " 'Milwaukee Bucks': [41.113741988888627, 40.886258011111387],\n",
       " 'Minnesota Timberwolves': [19.139789705650724, 62.860210294349272],\n",
       " 'New Orleans Pelicans': [39.650677922370804, 42.349322077629196],\n",
       " 'New York Knicks': [20.844669370205636, 61.155330629794364],\n",
       " 'Oklahoma City Thunder': [37.523243282344055, 44.476756717655938],\n",
       " 'Orlando Magic': [29.488505192193305, 52.511494807806677],\n",
       " 'Philadelphia 76ers': [19.74773109622253, 62.252268903777441],\n",
       " 'Phoenix Suns': [43.205973811423014, 38.794026188576986],\n",
       " 'Portland Trail Blazers': [47.866979994910707, 34.133020005089321],\n",
       " 'Sacramento Kings': [31.186954810437122, 50.813045189562899],\n",
       " 'San Antonio Spurs': [60.874183432479285, 21.125816567520694],\n",
       " 'Toronto Raptors': [47.096466672183105, 34.903533327816888],\n",
       " 'Utah Jazz': [44.916589647361356, 37.083410352638658],\n",
       " 'Washington Wizards': [45.540851993707818, 36.459148006292168]}"
      ]
     },
     "execution_count": 71,
     "metadata": {},
     "output_type": "execute_result"
    }
   ],
   "source": [
    "import pred_to_record\n",
    "pred_to_record.pred_to_record(probs)"
   ]
  },
  {
   "cell_type": "code",
   "execution_count": 72,
   "metadata": {
    "collapsed": false
   },
   "outputs": [
    {
     "data": {
      "text/plain": [
       "10.853570840972107"
      ]
     },
     "execution_count": 72,
     "metadata": {},
     "output_type": "execute_result"
    }
   ],
   "source": [
    "pred_to_record.rms_round(probs)"
   ]
  },
  {
   "cell_type": "code",
   "execution_count": 73,
   "metadata": {
    "collapsed": true
   },
   "outputs": [],
   "source": [
    "Xtrain = np.array(pd.read_csv('csv/x_train_significant.csv', sep=','))\n",
    "ytrain = np.array(pd.read_csv('csv/y_train.csv', sep=',', header=None))\n",
    "Xtest = np.array(pd.read_csv('csv/x_test_significant.csv', sep=','))\n",
    "ytest = np.array(pd.read_csv('csv/y_test.csv', sep=',', header=None))"
   ]
  },
  {
   "cell_type": "code",
   "execution_count": 74,
   "metadata": {
    "collapsed": true
   },
   "outputs": [],
   "source": [
    "clf = svm.SVC(C = 0.5, kernel='linear')\n",
    "clf.fit(Xtrain, np.ravel(ytrain))\n",
    "\n",
    "p = clf.predict(Xtest)"
   ]
  },
  {
   "cell_type": "code",
   "execution_count": 75,
   "metadata": {
    "collapsed": false
   },
   "outputs": [
    {
     "data": {
      "text/plain": [
       "10.437113266288401"
      ]
     },
     "execution_count": 75,
     "metadata": {},
     "output_type": "execute_result"
    }
   ],
   "source": [
    "c = clf.decision_function(Xtest)\n",
    "probs = (np.ones(c.shape) / (1+np.exp(-50 * (c / np.linalg.norm(c)))))\n",
    "pred_to_record.rms_round(probs)"
   ]
  },
  {
   "cell_type": "code",
   "execution_count": 76,
   "metadata": {
    "collapsed": false
   },
   "outputs": [
    {
     "data": {
      "text/plain": [
       "{'Atlanta Hawks': [51.138562063385152, 30.861437936614823],\n",
       " 'Boston Celtics': [45.450190156510757, 36.549809843489228],\n",
       " 'Brooklyn Nets': [42.710915205236134, 39.289084794763866],\n",
       " 'Charlotte Hornets': [24.668755101672311, 57.331244898327682],\n",
       " 'Chicago Bulls': [51.442610142229299, 30.557389857770715],\n",
       " 'Cleveland Cavaliers': [52.699063163660526, 29.300936836339446],\n",
       " 'Dallas Mavericks': [41.573160489280653, 40.426839510719354],\n",
       " 'Denver Nuggets': [26.137219621166487, 55.86278037883352],\n",
       " 'Detroit Pistons': [27.03110027487978, 54.968899725120217],\n",
       " 'Golden State Warriors': [59.986213738913015, 22.013786261086963],\n",
       " 'Houston Rockets': [45.443458815391615, 36.556541184608399],\n",
       " 'Indiana Pacers': [44.827386274195199, 37.172613725804801],\n",
       " 'Los Angeles Clippers': [48.443255923995103, 33.55674407600489],\n",
       " 'Los Angeles Lakers': [18.930150123433922, 63.069849876566082],\n",
       " 'Memphis Grizzlies': [51.159900953176191, 30.840099046823802],\n",
       " 'Miami Heat': [35.176087233224862, 46.823912766775152],\n",
       " 'Milwaukee Bucks': [40.856263553432626, 41.143736446567374],\n",
       " 'Minnesota Timberwolves': [18.801938095190849, 63.198061904809151],\n",
       " 'New Orleans Pelicans': [47.760326139814211, 34.239673860185789],\n",
       " 'New York Knicks': [19.426690480626171, 62.573309519373851],\n",
       " 'Oklahoma City Thunder': [42.001668954379554, 39.998331045620432],\n",
       " 'Orlando Magic': [24.664261948476543, 57.335738051523457],\n",
       " 'Philadelphia 76ers': [14.619765844559653, 67.380234155440363],\n",
       " 'Phoenix Suns': [33.356817814028787, 48.643182185971213],\n",
       " 'Portland Trail Blazers': [44.733918312701618, 37.266081687298382],\n",
       " 'Sacramento Kings': [30.406943199036871, 51.59305680096314],\n",
       " 'San Antonio Spurs': [60.060656906854049, 21.939343093145954],\n",
       " 'Toronto Raptors': [41.837723249651972, 40.162276750348028],\n",
       " 'Utah Jazz': [44.062473587313022, 37.937526412686985],\n",
       " 'Washington Wizards': [45.39280486697659, 36.607195133023424]}"
      ]
     },
     "execution_count": 76,
     "metadata": {},
     "output_type": "execute_result"
    }
   ],
   "source": [
    "pred_to_record.pred_to_record(probs)"
   ]
  },
  {
   "cell_type": "code",
   "execution_count": null,
   "metadata": {
    "collapsed": true
   },
   "outputs": [],
   "source": []
  }
 ],
 "metadata": {
  "anaconda-cloud": {},
  "kernelspec": {
   "display_name": "Python [Root]",
   "language": "python",
   "name": "Python [Root]"
  },
  "language_info": {
   "codemirror_mode": {
    "name": "ipython",
    "version": 2
   },
   "file_extension": ".py",
   "mimetype": "text/x-python",
   "name": "python",
   "nbconvert_exporter": "python",
   "pygments_lexer": "ipython2",
   "version": "2.7.12"
  }
 },
 "nbformat": 4,
 "nbformat_minor": 0
}
