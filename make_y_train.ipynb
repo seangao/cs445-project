{
 "cells": [
  {
   "cell_type": "code",
   "execution_count": 8,
   "metadata": {
    "collapsed": false
   },
   "outputs": [],
   "source": [
    "import numpy as np\n",
    "import pandas as pd\n",
    "\n",
    "games = pd.read_csv('games_train.csv', delimiter=',', header=None)\n",
    "y_train = np.zeros(shape=(len(games.index)*2,1), dtype=np.int)\n",
    "for ind, game in games.iterrows():\n",
    "    if (game[1]>game[3]):\n",
    "        y_train[ind*2,0] = 1\n",
    "        y_train[ind*2+1,0] = 0\n",
    "    else:\n",
    "        y_train[ind*2,0] = 0\n",
    "        y_train[ind*2+1,0] = 1\n",
    "np.savetxt('csv/y_train.csv', y_train, delimiter=\",\")"
   ]
  }
 ],
 "metadata": {
  "kernelspec": {
   "display_name": "Python 3",
   "language": "python",
   "name": "python3"
  },
  "language_info": {
   "codemirror_mode": {
    "name": "ipython",
    "version": 3
   },
   "file_extension": ".py",
   "mimetype": "text/x-python",
   "name": "python",
   "nbconvert_exporter": "python",
   "pygments_lexer": "ipython3",
   "version": "3.5.2"
  }
 },
 "nbformat": 4,
 "nbformat_minor": 0
}
