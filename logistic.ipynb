{
 "cells": [
  {
   "cell_type": "code",
   "execution_count": 1,
   "metadata": {
    "collapsed": true
   },
   "outputs": [],
   "source": [
    "import numpy as np\n",
    "import pandas as pd\n",
    "import pred_to_record\n",
    "from sklearn.linear_model import LogisticRegression"
   ]
  },
  {
   "cell_type": "code",
   "execution_count": 2,
   "metadata": {
    "collapsed": false
   },
   "outputs": [],
   "source": [
    "x_train = pd.read_csv('csv/x_train.csv')\n",
    "y_train = pd.read_csv('csv/y_train.csv', header=None)\n",
    "x_test = pd.read_csv('csv/x_test.csv')\n",
    "y_test = pd.read_csv('csv/y_test.csv', header=None)\n",
    "x_train_new = pd.read_csv('csv/x_train_significant.csv')\n",
    "x_test_new = pd.read_csv('csv/x_test_significant.csv')"
   ]
  },
  {
   "cell_type": "code",
   "execution_count": 3,
   "metadata": {
    "collapsed": true
   },
   "outputs": [],
   "source": [
    "model = LogisticRegression()"
   ]
  },
  {
   "cell_type": "code",
   "execution_count": 45,
   "metadata": {
    "collapsed": false
   },
   "outputs": [
    {
     "data": {
      "text/plain": [
       "0.64430894308943087"
      ]
     },
     "execution_count": 45,
     "metadata": {},
     "output_type": "execute_result"
    }
   ],
   "source": [
    "model.fit(x_train, y_train)\n",
    "y_pred = model.predict(x_test)\n",
    "result = list(y_pred) == y_test\n",
    "(sum(result[0])+0.0)/len(result)"
   ]
  },
  {
   "cell_type": "code",
   "execution_count": 6,
   "metadata": {
    "collapsed": false
   },
   "outputs": [
    {
     "data": {
      "text/plain": [
       "0.65243902439024393"
      ]
     },
     "execution_count": 6,
     "metadata": {},
     "output_type": "execute_result"
    }
   ],
   "source": [
    "model.fit(x_train_new, y_train)\n",
    "y_pred = model.predict(x_test_new)\n",
    "result = list(y_pred) == y_test\n",
    "(sum(result[0])+0.0)/len(result)"
   ]
  },
  {
   "cell_type": "code",
   "execution_count": 9,
   "metadata": {
    "collapsed": false
   },
   "outputs": [
    {
     "data": {
      "text/plain": [
       "2460"
      ]
     },
     "execution_count": 9,
     "metadata": {},
     "output_type": "execute_result"
    }
   ],
   "source": [
    "y_pred_probs = model.predict_proba(x_test_new)\n",
    "y_pred_probs = [x[1] for x in y_pred_probs]\n",
    "len(y_pred_probs)"
   ]
  },
  {
   "cell_type": "code",
   "execution_count": 55,
   "metadata": {
    "collapsed": false
   },
   "outputs": [
    {
     "data": {
      "text/plain": [
       "{'Atlanta Hawks': [58.0, 24.0],\n",
       " 'Boston Celtics': [55.0, 27.0],\n",
       " 'Brooklyn Nets': [47.0, 35.0],\n",
       " 'Charlotte Hornets': [10.0, 72.0],\n",
       " 'Chicago Bulls': [56.0, 26.0],\n",
       " 'Cleveland Cavaliers': [67.0, 15.0],\n",
       " 'Dallas Mavericks': [51.0, 31.0],\n",
       " 'Denver Nuggets': [20.0, 62.0],\n",
       " 'Detroit Pistons': [19.0, 63.0],\n",
       " 'Golden State Warriors': [80.0, 2.0],\n",
       " 'Houston Rockets': [58.0, 24.0],\n",
       " 'Indiana Pacers': [46.0, 36.0],\n",
       " 'Los Angeles Clippers': [59.0, 23.0],\n",
       " 'Los Angeles Lakers': [6.0, 76.0],\n",
       " 'Memphis Grizzlies': [53.0, 29.0],\n",
       " 'Miami Heat': [36.0, 46.0],\n",
       " 'Milwaukee Bucks': [47.0, 35.0],\n",
       " 'Minnesota Timberwolves': [5.0, 77.0],\n",
       " 'New Orleans Pelicans': [52.0, 30.0],\n",
       " 'New York Knicks': [8.0, 74.0],\n",
       " 'Oklahoma City Thunder': [45.0, 37.0],\n",
       " 'Orlando Magic': [9.0, 73.0],\n",
       " 'Philadelphia 76ers': [8.0, 74.0],\n",
       " 'Phoenix Suns': [28.0, 54.0],\n",
       " 'Portland Trail Blazers': [50.0, 32.0],\n",
       " 'Sacramento Kings': [21.0, 61.0],\n",
       " 'San Antonio Spurs': [80.0, 2.0],\n",
       " 'Toronto Raptors': [48.0, 34.0],\n",
       " 'Utah Jazz': [53.0, 29.0],\n",
       " 'Washington Wizards': [48.0, 34.0]}"
      ]
     },
     "execution_count": 55,
     "metadata": {},
     "output_type": "execute_result"
    }
   ],
   "source": [
    "pred1 = pred_to_record.pred_to_record(y_pred)\n",
    "RMS1 = pred_to_record.rms_round(y_pred)\n",
    "pred1"
   ]
  },
  {
   "cell_type": "code",
   "execution_count": 56,
   "metadata": {
    "collapsed": false
   },
   "outputs": [
    {
     "data": {
      "text/plain": [
       "{'Atlanta Hawks': [51.734451637238408, 30.265548362761585],\n",
       " 'Boston Celtics': [47.519454810868424, 34.480545189131576],\n",
       " 'Brooklyn Nets': [42.444074620497979, 39.555925379502021],\n",
       " 'Charlotte Hornets': [25.818849069726582, 56.181150930273397],\n",
       " 'Chicago Bulls': [48.99782545895085, 33.00217454104915],\n",
       " 'Cleveland Cavaliers': [52.977828532118401, 29.022171467881577],\n",
       " 'Dallas Mavericks': [44.78377981392773, 37.216220186072263],\n",
       " 'Denver Nuggets': [31.307919641205519, 50.692080358794492],\n",
       " 'Detroit Pistons': [31.462898621974116, 50.537101378025902],\n",
       " 'Golden State Warriors': [60.19090073995828, 21.80909926004173],\n",
       " 'Houston Rockets': [50.176784322086924, 31.823215677913069],\n",
       " 'Indiana Pacers': [43.147317352062373, 38.852682647937641],\n",
       " 'Los Angeles Clippers': [50.628997586138901, 31.371002413861095],\n",
       " 'Los Angeles Lakers': [21.384074772304444, 60.615925227695541],\n",
       " 'Memphis Grizzlies': [49.568710612205358, 32.431289387794628],\n",
       " 'Miami Heat': [39.469034927898782, 42.530965072101225],\n",
       " 'Milwaukee Bucks': [43.600139660275161, 38.399860339724839],\n",
       " 'Minnesota Timberwolves': [22.598515101154852, 59.401484898845169],\n",
       " 'New Orleans Pelicans': [46.613086104652879, 35.386913895347121],\n",
       " 'New York Knicks': [23.215361165442307, 58.784638834557711],\n",
       " 'Oklahoma City Thunder': [42.160708366998534, 39.839291633001466],\n",
       " 'Orlando Magic': [25.632111738228147, 56.367888261771867],\n",
       " 'Philadelphia 76ers': [21.671233750744335, 60.328766249255665],\n",
       " 'Phoenix Suns': [36.565131244636682, 45.434868755363311],\n",
       " 'Portland Trail Blazers': [43.650005832247757, 38.349994167752243],\n",
       " 'Sacramento Kings': [32.574680505730875, 49.425319494269125],\n",
       " 'San Antonio Spurs': [60.107004666243569, 21.892995333756428],\n",
       " 'Toronto Raptors': [43.83770926097111, 38.16229073902889],\n",
       " 'Utah Jazz': [46.497318113006557, 35.50268188699345],\n",
       " 'Washington Wizards': [44.162149502808361, 37.837850497191646]}"
      ]
     },
     "execution_count": 56,
     "metadata": {},
     "output_type": "execute_result"
    }
   ],
   "source": [
    "pred2 = pred_to_record.pred_to_record(y_pred_probs)\n",
    "RMS2 = pred_to_record.rms_round(y_pred_probs)\n",
    "pred2"
   ]
  },
  {
   "cell_type": "code",
   "execution_count": 57,
   "metadata": {
    "collapsed": false
   },
   "outputs": [
    {
     "name": "stdout",
     "output_type": "stream",
     "text": [
      "15.7786775956\n",
      "9.93646483078\n"
     ]
    }
   ],
   "source": [
    "print RMS1\n",
    "print RMS2"
   ]
  },
  {
   "cell_type": "code",
   "execution_count": 15,
   "metadata": {
    "collapsed": false
   },
   "outputs": [
    {
     "name": "stdout",
     "output_type": "stream",
     "text": [
      "[61, 64, 61, 63, 61, 59, 57, 61, 55, 64, 64, 62, 60, 64, 58, 61, 58, 61, 67, 57, 63, 61, 59, 62, 63, 57, 62, 58, 57, 56, 65, 61, 57, 61, 61, 60, 68, 62, 63, 55, 58, 61, 57, 58, 56, 62, 62, 62, 52, 65, 62, 60, 59, 61, 61, 56, 59, 55, 52, 62, 60, 59, 60, 62, 64, 67, 64, 53, 61, 60, 64, 52, 60, 52, 57, 61, 61, 63, 67, 60, 63, 55, 69, 60, 60, 59, 58, 55, 51, 66, 56, 60, 59, 63, 60, 61, 59, 54, 58, 63, 61, 55, 58, 59, 59, 68, 63, 62, 62, 60, 61, 62, 68, 51, 56, 58, 58, 60, 57, 61, 62, 62, 61, 66, 57, 58, 59, 60, 64, 62, 58, 58, 58, 58, 60, 61, 62, 58, 61, 62, 59, 58, 62, 56, 58, 61, 60, 61, 57, 55, 58, 59, 65, 64, 58, 56, 62, 57, 60, 52, 55, 64, 60, 61, 68, 59, 63, 57, 60, 56, 58, 50, 60, 60, 55, 66, 63, 60, 58, 52, 55, 62, 56, 59, 55, 62, 61, 50, 62, 64, 49, 63, 65, 60, 59, 53, 63, 65, 64, 57, 58, 59, 64, 62, 57, 57, 61, 65, 60, 63, 56, 60, 55, 55, 61, 64, 62, 61, 57, 68, 63, 64, 61, 67, 62, 58, 60, 58, 65, 55, 58, 64, 64, 60, 63, 60, 59, 58, 51, 59, 58, 63, 59, 66, 60, 62, 56, 62, 64, 55, 63, 50, 57, 57, 48, 60, 65, 63, 57, 55, 57, 60, 57, 69, 57, 68, 62, 59, 64, 60, 55, 62, 60, 66, 57, 60, 60, 58, 62, 62, 56, 66, 62, 61, 61, 68, 68, 64, 63, 63, 60, 61, 61, 59, 55, 59, 67, 57, 55, 63, 65, 56, 53, 61, 63, 66, 66, 55, 65, 65, 65, 57, 62, 57, 61, 60, 52, 52, 62, 58, 62, 55, 58, 67, 58, 58, 64, 61, 56, 57, 61, 54, 61, 64, 59, 58, 56, 59, 51, 61, 55, 65, 66, 56, 63, 56, 60, 61, 60, 52, 61, 60, 58, 63, 69, 61, 68, 57, 60, 59, 62, 54, 60, 65, 64, 56, 62, 61, 59, 65, 63, 57, 51, 58, 60, 60, 53, 59, 59, 60, 60, 58, 57, 55, 63, 59, 60, 63, 65, 62, 59, 68, 57, 63, 59, 58, 66, 60, 57, 58, 61, 59, 59, 65, 62, 59, 52, 58, 57, 63, 52, 62, 59, 52, 58, 58, 64, 52, 68, 56, 63, 58, 59, 65, 59, 60, 62, 58, 65, 64, 62, 56, 66, 61, 61, 58, 62, 65, 58, 58, 60, 58, 62, 63, 60, 61, 60, 56, 63, 59, 59, 61, 63, 63, 65, 56, 69, 61, 59, 59, 55, 62, 57, 57, 63, 54, 66, 58, 62, 63, 64, 56, 58, 61, 61, 68, 60, 60, 56, 56, 59, 61, 64, 64, 66, 63, 56, 53, 61, 60, 60, 61, 59, 67, 53, 54, 63, 59, 61, 60, 58, 54, 51, 60, 59, 56, 61, 59, 56, 61, 56, 56, 66, 64, 63, 59, 61, 61, 60, 59, 60, 56, 62, 61, 54, 56, 62, 60, 58, 65, 61, 56, 61, 61, 56, 63, 60, 63, 59, 59, 60, 61, 61, 58, 60, 55, 57, 60, 57, 60, 67, 51, 68, 61, 56, 62, 67, 62, 67, 58, 65, 54, 60, 57, 57, 56, 57, 51, 63, 64, 58, 58, 56, 62, 59, 63, 57, 57, 55, 59, 57, 56, 60, 62, 53, 57, 62, 62, 61, 63, 54, 67, 62, 63, 54, 61, 61, 54, 64, 69, 57, 61, 63, 55, 63, 52, 60, 55, 61, 57, 57, 68, 66, 60, 67, 61, 60, 54, 62, 63, 65, 62, 65, 53, 55, 61, 59, 68, 63, 58, 62, 61, 56, 60, 61, 63, 63, 67, 58, 58, 66, 56, 55, 61, 59, 60, 55, 66, 59, 60, 63, 60, 57, 60, 57, 54, 62, 60, 63, 58, 61, 61, 61, 59, 62, 57, 68, 56, 61, 63, 64, 60, 62, 57, 63, 63, 63, 65, 58, 58, 54, 60, 70, 68, 67, 62, 58, 51, 64, 54, 61, 66, 65, 58, 56, 55, 64, 61, 61, 61, 60, 63, 61, 59, 63, 58, 63, 61, 63, 57, 57, 57, 58, 65, 55, 58, 64, 64, 58, 67, 60, 57, 60, 61, 62, 62, 62, 57, 56, 63, 58, 67, 54, 59, 68, 59, 58, 62, 62, 62, 62, 62, 61, 58, 60, 63, 65, 59, 56, 57, 57, 56, 58, 59, 57, 58, 49, 58, 66, 56, 57, 60, 64, 61, 59, 61, 61, 55, 56, 60, 65, 62, 55, 65, 67, 59, 60, 63, 61, 58, 64, 61, 62, 58, 66, 64, 65, 66, 68, 65, 57, 61, 55, 55, 59, 64, 61, 60, 55, 60, 58, 67, 58, 62, 67, 65, 67, 56, 63, 60, 68, 62, 70, 52, 62, 61, 60, 59, 64, 65, 63, 59, 65, 61, 62, 66, 60, 59, 50, 63, 53, 60, 63, 56, 60, 59, 59, 61, 64, 69, 64, 61, 59, 66, 56, 60, 64, 63, 63, 57, 70, 68, 62, 62, 57, 59, 65, 69, 65, 60, 60, 60, 69, 55, 56, 60, 61, 59, 57, 63, 63, 66, 59, 59, 57, 58, 63, 59, 63, 66, 60, 59, 58, 57, 61, 57, 62, 59, 60, 65, 54, 60, 58, 60, 59, 59, 56, 60, 58, 62, 61, 61, 63, 69, 62, 61, 59, 61, 58, 59, 61, 61, 58, 68, 62, 62, 55, 51, 62, 63, 63, 64, 51, 54, 60, 66, 59, 61, 60, 59, 61, 63, 59, 59, 57, 65, 53, 59, 64, 66, 67, 57, 59, 55, 61, 56, 59, 55, 60, 59, 64, 60, 57, 53, 66, 59, 52, 60, 56, 64, 64, 57, 62, 63, 58, 63, 60, 58, 60, 68, 60, 55, 62, 56, 58, 56, 57, 55, 59, 59, 69, 60, 57, 63, 64, 55, 68, 60, 65, 55, 67, 57, 59, 55, 57, 64, 56, 52, 57, 55]\n"
     ]
    }
   ],
   "source": [
    "import random\n",
    "games_test = pd.read_csv('games_test.csv', header=None)\n",
    "team = \"San Antonio Spurs\"\n",
    "wins = []\n",
    "team_ind = []\n",
    "\n",
    "for i in range(len(games_test)):\n",
    "    away = games_test.loc[i,0]\n",
    "    home = games_test.loc[i,2]\n",
    "    if team==away or team==home:\n",
    "        team_ind.append(i)\n",
    "\n",
    "for iteration in range(1000):\n",
    "    win_count = 0\n",
    "    for i in team_ind:\n",
    "        away = games_test.loc[i,0]\n",
    "        home = games_test.loc[i,2]\n",
    "        if team==away:\n",
    "            if random.random() < y_pred_probs[2*i]:\n",
    "                win_count += 1\n",
    "        elif team==home:\n",
    "            if random.random() < y_pred_probs[2*i+1]:\n",
    "                win_count += 1\n",
    "    wins.append(win_count)"
   ]
  },
  {
   "cell_type": "code",
   "execution_count": 21,
   "metadata": {
    "collapsed": false
   },
   "outputs": [],
   "source": [
    "import csv\n",
    "\n",
    "with open('csv/spurs_wins.csv', 'wb') as myfile:\n",
    "    wr = csv.writer(myfile, quoting=csv.QUOTE_ALL)\n",
    "    for win in wins:\n",
    "        wr.writerow([win])"
   ]
  }
 ],
 "metadata": {
  "anaconda-cloud": {},
  "kernelspec": {
   "display_name": "Python 2",
   "language": "python",
   "name": "python2"
  },
  "language_info": {
   "codemirror_mode": {
    "name": "ipython",
    "version": 2
   },
   "file_extension": ".py",
   "mimetype": "text/x-python",
   "name": "python",
   "nbconvert_exporter": "python",
   "pygments_lexer": "ipython2",
   "version": "2.7.12"
  }
 },
 "nbformat": 4,
 "nbformat_minor": 0
}
