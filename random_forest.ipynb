{
 "cells": [
  {
   "cell_type": "code",
   "execution_count": 45,
   "metadata": {
    "collapsed": false
   },
   "outputs": [
    {
     "name": "stdout",
     "output_type": "stream",
     "text": [
      "1\n"
     ]
    },
    {
     "name": "stderr",
     "output_type": "stream",
     "text": [
      "/Users/adrianlin/anaconda/lib/python3.5/site-packages/ipykernel/__main__.py:14: DataConversionWarning: A column-vector y was passed when a 1d array was expected. Please change the shape of y to (n_samples,), for example using ravel().\n"
     ]
    },
    {
     "name": "stdout",
     "output_type": "stream",
     "text": [
      "0.642682926829\n",
      "147 bad pairs out of 1230\n",
      "5\n"
     ]
    },
    {
     "name": "stderr",
     "output_type": "stream",
     "text": [
      "/Users/adrianlin/anaconda/lib/python3.5/site-packages/ipykernel/__main__.py:14: DataConversionWarning: A column-vector y was passed when a 1d array was expected. Please change the shape of y to (n_samples,), for example using ravel().\n"
     ]
    },
    {
     "name": "stdout",
     "output_type": "stream",
     "text": [
      "0.64512195122\n",
      "81 bad pairs out of 1230\n",
      "10\n"
     ]
    },
    {
     "name": "stderr",
     "output_type": "stream",
     "text": [
      "/Users/adrianlin/anaconda/lib/python3.5/site-packages/ipykernel/__main__.py:14: DataConversionWarning: A column-vector y was passed when a 1d array was expected. Please change the shape of y to (n_samples,), for example using ravel().\n"
     ]
    },
    {
     "name": "stdout",
     "output_type": "stream",
     "text": [
      "0.640650406504\n",
      "86 bad pairs out of 1230\n",
      "50\n"
     ]
    },
    {
     "name": "stderr",
     "output_type": "stream",
     "text": [
      "/Users/adrianlin/anaconda/lib/python3.5/site-packages/ipykernel/__main__.py:14: DataConversionWarning: A column-vector y was passed when a 1d array was expected. Please change the shape of y to (n_samples,), for example using ravel().\n"
     ]
    },
    {
     "name": "stdout",
     "output_type": "stream",
     "text": [
      "0.638211382114\n",
      "56 bad pairs out of 1230\n",
      "100\n"
     ]
    },
    {
     "name": "stderr",
     "output_type": "stream",
     "text": [
      "/Users/adrianlin/anaconda/lib/python3.5/site-packages/ipykernel/__main__.py:14: DataConversionWarning: A column-vector y was passed when a 1d array was expected. Please change the shape of y to (n_samples,), for example using ravel().\n"
     ]
    },
    {
     "name": "stdout",
     "output_type": "stream",
     "text": [
      "0.642682926829\n",
      "41 bad pairs out of 1230\n",
      "200\n"
     ]
    },
    {
     "name": "stderr",
     "output_type": "stream",
     "text": [
      "/Users/adrianlin/anaconda/lib/python3.5/site-packages/ipykernel/__main__.py:14: DataConversionWarning: A column-vector y was passed when a 1d array was expected. Please change the shape of y to (n_samples,), for example using ravel().\n"
     ]
    },
    {
     "name": "stdout",
     "output_type": "stream",
     "text": [
      "0.638617886179\n",
      "43 bad pairs out of 1230\n",
      "500\n"
     ]
    },
    {
     "name": "stderr",
     "output_type": "stream",
     "text": [
      "/Users/adrianlin/anaconda/lib/python3.5/site-packages/ipykernel/__main__.py:14: DataConversionWarning: A column-vector y was passed when a 1d array was expected. Please change the shape of y to (n_samples,), for example using ravel().\n"
     ]
    },
    {
     "name": "stdout",
     "output_type": "stream",
     "text": [
      "0.636991869919\n",
      "25 bad pairs out of 1230\n"
     ]
    }
   ],
   "source": [
    "from sklearn.ensemble import RandomForestClassifier\n",
    "import numpy as np\n",
    "import pandas as pd\n",
    "\n",
    "Xtrain = np.array(pd.read_csv('csv/x_train.csv', sep=','))\n",
    "ytrain = np.array(pd.read_csv('csv/y_train.csv', sep=',', header=None))\n",
    "Xtest = np.array(pd.read_csv('csv/x_test.csv', sep=','))\n",
    "ytest = np.array(pd.read_csv('csv/y_test.csv', sep=',', header=None))\n",
    "\n",
    "sample_leaf_options = [1,5,10,50,100,200,500]\n",
    "for min_leaf in sample_leaf_options:\n",
    "    print(min_leaf)\n",
    "    clf = RandomForestClassifier(n_estimators=200, max_features=\"sqrt\", min_samples_leaf=min_leaf, oob_score = True)\n",
    "    clf = clf.fit(Xtrain, ytrain)\n",
    "\n",
    "    p = clf.predict(Xtest)\n",
    "    print(clf.score(Xtest, ytest, sample_weight=None))\n",
    "\n",
    "    bad_pair = 0\n",
    "    for i in range(int(p.shape[0]/2)):\n",
    "        if p[2*i]==p[2*i+1]:\n",
    "            bad_pair+=1\n",
    "    print(bad_pair, \"bad pairs out of\",int(p.shape[0]/2))"
   ]
  }
 ],
 "metadata": {
  "kernelspec": {
   "display_name": "Python 3",
   "language": "python",
   "name": "python3"
  },
  "language_info": {
   "codemirror_mode": {
    "name": "ipython",
    "version": 3
   },
   "file_extension": ".py",
   "mimetype": "text/x-python",
   "name": "python",
   "nbconvert_exporter": "python",
   "pygments_lexer": "ipython3",
   "version": "3.5.2"
  }
 },
 "nbformat": 4,
 "nbformat_minor": 0
}
