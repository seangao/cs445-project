{
 "cells": [
  {
   "cell_type": "code",
   "execution_count": 65,
   "metadata": {
    "collapsed": false
   },
   "outputs": [
    {
     "name": "stdout",
     "output_type": "stream",
     "text": [
      "Best rate: 0.64756097561 10 min_leaf\n",
      "Fewest bad pairs: 48 200 min_leaf\n"
     ]
    }
   ],
   "source": [
    "from sklearn.ensemble import RandomForestClassifier\n",
    "import numpy as np\n",
    "import pandas as pd\n",
    "\n",
    "Xtrain = np.array(pd.read_csv('csv/x_train.csv', sep=','))\n",
    "ytrain = np.array(pd.read_csv('csv/y_train.csv', sep=',', header=None))\n",
    "Xtest = np.array(pd.read_csv('csv/x_test.csv', sep=','))\n",
    "ytest = np.array(pd.read_csv('csv/y_test.csv', sep=',', header=None))\n",
    "\n",
    "sample_leaf_options = [1,5,10,50,100,200,500]\n",
    "max_score = -1\n",
    "max_score_leaf = 0\n",
    "fewest_bad_pairs = p.shape[0]/2\n",
    "fewest_bad_pairs_leaf = 0\n",
    "for min_leaf in sample_leaf_options:\n",
    "    clf = RandomForestClassifier(n_estimators=200, max_features=\"sqrt\", min_samples_leaf=min_leaf, oob_score = True)\n",
    "    clf = clf.fit(Xtrain, np.ravel(ytrain))\n",
    "\n",
    "    p = clf.predict(Xtest)\n",
    "    score = clf.score(Xtest, ytest, sample_weight=None)\n",
    "    if (score > max_score):\n",
    "        max_score = score\n",
    "        max_score_leaf = min_leaf\n",
    "\n",
    "    bad_pair = 0\n",
    "    for i in range(int(p.shape[0]/2)):\n",
    "        if p[2*i]==p[2*i+1]:\n",
    "            bad_pair+=1\n",
    "    if (bad_pair < fewest_bad_pairs):\n",
    "        fewest_bad_pairs = bad_pair\n",
    "        fewest_bad_pairs_leaf = min_leaf\n",
    "print('Best rate:', max_score, max_score_leaf, 'min_leaf')\n",
    "print('Fewest bad pairs:', fewest_bad_pairs, fewest_bad_pairs_leaf, 'min_leaf')"
   ]
  },
  {
   "cell_type": "code",
   "execution_count": 66,
   "metadata": {
    "collapsed": false
   },
   "outputs": [
    {
     "name": "stdout",
     "output_type": "stream",
     "text": [
      "Best rate: 0.647154471545 500 trees\n",
      "Fewest bad pairs: 20 500 trees\n"
     ]
    }
   ],
   "source": [
    "n_estimators = [50,100,200,500,750,1000]\n",
    "max_score = -1\n",
    "max_score_trees = 0\n",
    "fewest_bad_pairs = p.shape[0]/2\n",
    "fewest_bad_pairs_trees = 0\n",
    "for n_trees in n_estimators:\n",
    "    clf = RandomForestClassifier(n_estimators=n_trees, max_features=\"sqrt\", \n",
    "                                 min_samples_leaf=max_score_leaf, oob_score = True)\n",
    "    clf = clf.fit(Xtrain, np.ravel(ytrain))\n",
    "\n",
    "    p = clf.predict(Xtest)\n",
    "    score = clf.score(Xtest, ytest, sample_weight=None)\n",
    "    if (score > max_score):\n",
    "        max_score = score\n",
    "        max_score_trees = min_leaf\n",
    "\n",
    "    bad_pair = 0\n",
    "    for i in range(int(p.shape[0]/2)):\n",
    "        if p[2*i]==p[2*i+1]:\n",
    "            bad_pair+=1\n",
    "    if (bad_pair < fewest_bad_pairs):\n",
    "        fewest_bad_pairs = bad_pair\n",
    "        fewest_bad_pairs_trees = min_leaf\n",
    "print('Best rate:', max_score, max_score_trees, 'trees')\n",
    "print('Fewest bad pairs:', fewest_bad_pairs, fewest_bad_pairs_trees, 'trees')"
   ]
  }
 ],
 "metadata": {
  "kernelspec": {
   "display_name": "Python 3",
   "language": "python",
   "name": "python3"
  },
  "language_info": {
   "codemirror_mode": {
    "name": "ipython",
    "version": 3
   },
   "file_extension": ".py",
   "mimetype": "text/x-python",
   "name": "python",
   "nbconvert_exporter": "python",
   "pygments_lexer": "ipython3",
   "version": "3.5.2"
  }
 },
 "nbformat": 4,
 "nbformat_minor": 0
}
