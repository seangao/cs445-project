{
 "cells": [
  {
   "cell_type": "code",
   "execution_count": 37,
   "metadata": {
    "collapsed": false
   },
   "outputs": [],
   "source": [
    "from sklearn.ensemble import RandomForestClassifier\n",
    "import numpy as np\n",
    "import pandas as pd\n",
    "\n",
    "Xtrain = np.array(pd.read_csv('csv/x_train_significant.csv', sep=','))\n",
    "ytrain = np.array(pd.read_csv('csv/y_train.csv', sep=',', header=None))\n",
    "Xtest = np.array(pd.read_csv('csv/x_test_significant.csv', sep=','))\n",
    "ytest = np.array(pd.read_csv('csv/y_test.csv', sep=',', header=None))"
   ]
  },
  {
   "cell_type": "code",
   "execution_count": 38,
   "metadata": {
    "collapsed": false
   },
   "outputs": [
    {
     "name": "stdout",
     "output_type": "stream",
     "text": [
      "('Best rate:', 0.64715447154471539, 5, 'min_leaf')\n",
      "('Fewest bad pairs:', 41, 100, 'min_leaf')\n"
     ]
    }
   ],
   "source": [
    "sample_leaf_options = [1,5,10,50,100,200,500]\n",
    "max_score = -1\n",
    "max_score_leaf = 0\n",
    "fewest_bad_pairs = ytest.shape[0]/2\n",
    "fewest_bad_pairs_leaf = 0\n",
    "for min_leaf in sample_leaf_options:\n",
    "    clf = RandomForestClassifier(n_estimators=200, max_features=\"sqrt\", min_samples_leaf=min_leaf, oob_score = True)\n",
    "    clf = clf.fit(Xtrain, np.ravel(ytrain))\n",
    "\n",
    "    p = clf.predict(Xtest)\n",
    "    score = clf.score(Xtest, ytest, sample_weight=None)\n",
    "    if (score > max_score):\n",
    "        max_score = score\n",
    "        max_score_leaf = min_leaf\n",
    "\n",
    "    bad_pair = 0\n",
    "    for i in range(int(p.shape[0]/2)):\n",
    "        if p[2*i]==p[2*i+1]:\n",
    "            bad_pair+=1\n",
    "    if (bad_pair < fewest_bad_pairs):\n",
    "        fewest_bad_pairs = bad_pair\n",
    "        fewest_bad_pairs_leaf = min_leaf\n",
    "print('Best rate:', max_score, max_score_leaf, 'min_leaf')\n",
    "print('Fewest bad pairs:', fewest_bad_pairs, fewest_bad_pairs_leaf, 'min_leaf')"
   ]
  },
  {
   "cell_type": "code",
   "execution_count": 39,
   "metadata": {
    "collapsed": false
   },
   "outputs": [
    {
     "name": "stdout",
     "output_type": "stream",
     "text": [
      "('Best rate:', 0.65000000000000002, 500, 'trees')\n",
      "('Fewest bad pairs:', 38, 500, 'trees')\n"
     ]
    }
   ],
   "source": [
    "n_estimators = [50,100,200,500,750,1000]\n",
    "max_score = -1\n",
    "max_score_trees = 0\n",
    "fewest_bad_pairs = p.shape[0]/2\n",
    "fewest_bad_pairs_trees = 0\n",
    "for n_trees in n_estimators:\n",
    "    clf = RandomForestClassifier(n_estimators=n_trees, max_features=\"sqrt\", \n",
    "                                 min_samples_leaf=max_score_leaf, oob_score = True)\n",
    "    clf = clf.fit(Xtrain, np.ravel(ytrain))\n",
    "\n",
    "    p = clf.predict(Xtest)\n",
    "    score = clf.score(Xtest, ytest, sample_weight=None)\n",
    "    if (score > max_score):\n",
    "        max_score = score\n",
    "        max_score_trees = min_leaf\n",
    "\n",
    "    bad_pair = 0\n",
    "    for i in range(int(p.shape[0]/2)):\n",
    "        if p[2*i]==p[2*i+1]:\n",
    "            bad_pair+=1\n",
    "    if (bad_pair < fewest_bad_pairs):\n",
    "        fewest_bad_pairs = bad_pair\n",
    "        fewest_bad_pairs_trees = min_leaf\n",
    "print('Best rate:', max_score, max_score_trees, 'trees')\n",
    "print('Fewest bad pairs:', fewest_bad_pairs, fewest_bad_pairs_trees, 'trees')"
   ]
  },
  {
   "cell_type": "code",
   "execution_count": 40,
   "metadata": {
    "collapsed": false
   },
   "outputs": [
    {
     "data": {
      "text/plain": [
       "0.64634146341463417"
      ]
     },
     "execution_count": 40,
     "metadata": {},
     "output_type": "execute_result"
    }
   ],
   "source": [
    "clf = RandomForestClassifier(n_estimators=max_score_trees, max_features=\"sqrt\", \n",
    "                                 min_samples_leaf=max_score_leaf, oob_score = True)\n",
    "clf = clf.fit(Xtrain, np.ravel(ytrain))\n",
    "p = clf.predict(Xtest)\n",
    "probs = clf.predict_proba(Xtest)\n",
    "clf.score(Xtest, ytest)"
   ]
  },
  {
   "cell_type": "code",
   "execution_count": 26,
   "metadata": {
    "collapsed": false
   },
   "outputs": [],
   "source": [
    "games_test = pd.read_csv('games_test.csv', header=None)\n",
    "wins = {}\n",
    "for i in range(len(games_test)):\n",
    "    away_win = (probs[2*i][1]+probs[2*i+1][0])/2\n",
    "    home_win = (probs[2*i][0]+probs[2*i+1][1])/2\n",
    "    away = games_test.loc[i,0]\n",
    "    home = games_test.loc[i,2]\n",
    "    if away not in wins:\n",
    "        wins[away] = away_win\n",
    "    else:\n",
    "        wins[away] += away_win\n",
    "    if home not in wins:\n",
    "        wins[home] = home_win\n",
    "    else:\n",
    "        wins[home] += home_win"
   ]
  },
  {
   "cell_type": "code",
   "execution_count": 31,
   "metadata": {
    "collapsed": false
   },
   "outputs": [
    {
     "data": {
      "text/plain": [
       "10.25508004194344"
      ]
     },
     "execution_count": 31,
     "metadata": {},
     "output_type": "execute_result"
    }
   ],
   "source": [
    "import pred_to_record\n",
    "pred_to_record.to_csv(pred_to_record.pred_to_record(p), 'random_forest')\n",
    "pred_to_record.to_csv(pred_to_record.pred_to_record([prob[1] for prob in probs]), 'random_forest_prob')"
   ]
  },
  {
   "cell_type": "code",
   "execution_count": 34,
   "metadata": {
    "collapsed": false
   },
   "outputs": [
    {
     "name": "stdout",
     "output_type": "stream",
     "text": [
      "17.28390388\n"
     ]
    },
    {
     "data": {
      "text/plain": [
       "10.229010715221683"
      ]
     },
     "execution_count": 34,
     "metadata": {},
     "output_type": "execute_result"
    }
   ],
   "source": [
    "print(pred_to_record.rms(p))\n",
    "print(pred_to_record.rms([prob[1] for prob in probs]))"
   ]
  }
 ],
 "metadata": {
  "kernelspec": {
   "display_name": "Python 2",
   "language": "python",
   "name": "python2"
  },
  "language_info": {
   "codemirror_mode": {
    "name": "ipython",
    "version": 2
   },
   "file_extension": ".py",
   "mimetype": "text/x-python",
   "name": "python",
   "nbconvert_exporter": "python",
   "pygments_lexer": "ipython2",
   "version": "2.7.12"
  }
 },
 "nbformat": 4,
 "nbformat_minor": 0
}
